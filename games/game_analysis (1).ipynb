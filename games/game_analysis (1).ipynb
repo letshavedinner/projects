{
 "cells": [
  {
   "cell_type": "markdown",
   "id": "3598909a",
   "metadata": {},
   "source": [
    "# Аналитика продаж для интернет-магазина компьютерных игр\n"
   ]
  },
  {
   "cell_type": "markdown",
   "id": "4165f21a",
   "metadata": {},
   "source": [
    "### Описание данных\n",
    "+ Name — название игры\n",
    "+ Platform — платформа\n",
    "+ Year_of_Release — год выпуска\n",
    "+ Genre — жанр игры\n",
    "+ NA_sales — продажи в Северной Америке (миллионы проданных копий)\n",
    "+ EU_sales — продажи в Европе (миллионы проданных копий)\n",
    "+ JP_sales — продажи в Японии (миллионы проданных копий)\n",
    "+ Other_sales — продажи в других странах (миллионы проданных копий)\n",
    "+ Critic_Score — оценка критиков (максимум 100)\n",
    "+ User_Score — оценка пользователей (максимум 10)\n",
    "+ Rating — рейтинг от организации ESRB (англ. Entertainment Software Rating Board).  \n",
    "\n",
    "### Значение рейтингов\n",
    "+ ЕС — для детей младшего возраста\n",
    "+ Е — для всех\n",
    "+ Е10+ — для всех от 10 лет и старше\n",
    "+ Т — для подростков\n",
    "+ М — для взрослых\n",
    "+ АО — только для взрослых 18+\n",
    "+ RP — рейтинг ожидается  "
   ]
  },
  {
   "cell_type": "markdown",
   "id": "1eba6268",
   "metadata": {},
   "source": [
    "# Шаг 1. Откроем файл с данными и изучим общую информацию"
   ]
  },
  {
   "cell_type": "code",
   "execution_count": 1,
   "id": "895fa155",
   "metadata": {},
   "outputs": [],
   "source": [
    "import pandas as pd\n",
    "import warnings\n",
    "import matplotlib.pyplot as plt \n",
    "from datetime import datetime\n",
    "from scipy import stats as st\n",
    "import numpy as np\n",
    "import seaborn as sns"
   ]
  },
  {
   "cell_type": "code",
   "execution_count": 2,
   "id": "8ff95f6b",
   "metadata": {},
   "outputs": [
    {
     "data": {
      "text/html": [
       "<div>\n",
       "<style scoped>\n",
       "    .dataframe tbody tr th:only-of-type {\n",
       "        vertical-align: middle;\n",
       "    }\n",
       "\n",
       "    .dataframe tbody tr th {\n",
       "        vertical-align: top;\n",
       "    }\n",
       "\n",
       "    .dataframe thead th {\n",
       "        text-align: right;\n",
       "    }\n",
       "</style>\n",
       "<table border=\"1\" class=\"dataframe\">\n",
       "  <thead>\n",
       "    <tr style=\"text-align: right;\">\n",
       "      <th></th>\n",
       "      <th>Name</th>\n",
       "      <th>Platform</th>\n",
       "      <th>Year_of_Release</th>\n",
       "      <th>Genre</th>\n",
       "      <th>NA_sales</th>\n",
       "      <th>EU_sales</th>\n",
       "      <th>JP_sales</th>\n",
       "      <th>Other_sales</th>\n",
       "      <th>Critic_Score</th>\n",
       "      <th>User_Score</th>\n",
       "      <th>Rating</th>\n",
       "    </tr>\n",
       "  </thead>\n",
       "  <tbody>\n",
       "    <tr>\n",
       "      <th>0</th>\n",
       "      <td>Wii Sports</td>\n",
       "      <td>Wii</td>\n",
       "      <td>2006.0</td>\n",
       "      <td>Sports</td>\n",
       "      <td>41.36</td>\n",
       "      <td>28.96</td>\n",
       "      <td>3.77</td>\n",
       "      <td>8.45</td>\n",
       "      <td>76.0</td>\n",
       "      <td>8</td>\n",
       "      <td>E</td>\n",
       "    </tr>\n",
       "    <tr>\n",
       "      <th>1</th>\n",
       "      <td>Super Mario Bros.</td>\n",
       "      <td>NES</td>\n",
       "      <td>1985.0</td>\n",
       "      <td>Platform</td>\n",
       "      <td>29.08</td>\n",
       "      <td>3.58</td>\n",
       "      <td>6.81</td>\n",
       "      <td>0.77</td>\n",
       "      <td>NaN</td>\n",
       "      <td>NaN</td>\n",
       "      <td>NaN</td>\n",
       "    </tr>\n",
       "    <tr>\n",
       "      <th>2</th>\n",
       "      <td>Mario Kart Wii</td>\n",
       "      <td>Wii</td>\n",
       "      <td>2008.0</td>\n",
       "      <td>Racing</td>\n",
       "      <td>15.68</td>\n",
       "      <td>12.76</td>\n",
       "      <td>3.79</td>\n",
       "      <td>3.29</td>\n",
       "      <td>82.0</td>\n",
       "      <td>8.3</td>\n",
       "      <td>E</td>\n",
       "    </tr>\n",
       "    <tr>\n",
       "      <th>3</th>\n",
       "      <td>Wii Sports Resort</td>\n",
       "      <td>Wii</td>\n",
       "      <td>2009.0</td>\n",
       "      <td>Sports</td>\n",
       "      <td>15.61</td>\n",
       "      <td>10.93</td>\n",
       "      <td>3.28</td>\n",
       "      <td>2.95</td>\n",
       "      <td>80.0</td>\n",
       "      <td>8</td>\n",
       "      <td>E</td>\n",
       "    </tr>\n",
       "    <tr>\n",
       "      <th>4</th>\n",
       "      <td>Pokemon Red/Pokemon Blue</td>\n",
       "      <td>GB</td>\n",
       "      <td>1996.0</td>\n",
       "      <td>Role-Playing</td>\n",
       "      <td>11.27</td>\n",
       "      <td>8.89</td>\n",
       "      <td>10.22</td>\n",
       "      <td>1.00</td>\n",
       "      <td>NaN</td>\n",
       "      <td>NaN</td>\n",
       "      <td>NaN</td>\n",
       "    </tr>\n",
       "  </tbody>\n",
       "</table>\n",
       "</div>"
      ],
      "text/plain": [
       "                       Name Platform  Year_of_Release         Genre  NA_sales  \\\n",
       "0                Wii Sports      Wii           2006.0        Sports     41.36   \n",
       "1         Super Mario Bros.      NES           1985.0      Platform     29.08   \n",
       "2            Mario Kart Wii      Wii           2008.0        Racing     15.68   \n",
       "3         Wii Sports Resort      Wii           2009.0        Sports     15.61   \n",
       "4  Pokemon Red/Pokemon Blue       GB           1996.0  Role-Playing     11.27   \n",
       "\n",
       "   EU_sales  JP_sales  Other_sales  Critic_Score User_Score Rating  \n",
       "0     28.96      3.77         8.45          76.0          8      E  \n",
       "1      3.58      6.81         0.77           NaN        NaN    NaN  \n",
       "2     12.76      3.79         3.29          82.0        8.3      E  \n",
       "3     10.93      3.28         2.95          80.0          8      E  \n",
       "4      8.89     10.22         1.00           NaN        NaN    NaN  "
      ]
     },
     "execution_count": 2,
     "metadata": {},
     "output_type": "execute_result"
    }
   ],
   "source": [
    "import os\n",
    "\n",
    "pth1 = '/datasets/games.csv'\n",
    "pth2 = '/Users/anna/Downloads/games.csv'\n",
    "\n",
    "if os.path.exists(pth1):\n",
    "    df = pd.read_csv('/datasets/games.csv')\n",
    "elif os.path.exists(pth2):\n",
    "    df = pd.read_csv('/Users/anna/Downloads/games.csv')\n",
    "else:\n",
    "    print('Something is wrong')\n",
    "\n",
    "df.head()"
   ]
  },
  {
   "cell_type": "code",
   "execution_count": 3,
   "id": "950e8c84",
   "metadata": {},
   "outputs": [
    {
     "data": {
      "text/html": [
       "<div>\n",
       "<style scoped>\n",
       "    .dataframe tbody tr th:only-of-type {\n",
       "        vertical-align: middle;\n",
       "    }\n",
       "\n",
       "    .dataframe tbody tr th {\n",
       "        vertical-align: top;\n",
       "    }\n",
       "\n",
       "    .dataframe thead th {\n",
       "        text-align: right;\n",
       "    }\n",
       "</style>\n",
       "<table border=\"1\" class=\"dataframe\">\n",
       "  <thead>\n",
       "    <tr style=\"text-align: right;\">\n",
       "      <th></th>\n",
       "      <th>Name</th>\n",
       "      <th>Platform</th>\n",
       "      <th>Year_of_Release</th>\n",
       "      <th>Genre</th>\n",
       "      <th>NA_sales</th>\n",
       "      <th>EU_sales</th>\n",
       "      <th>JP_sales</th>\n",
       "      <th>Other_sales</th>\n",
       "      <th>Critic_Score</th>\n",
       "      <th>User_Score</th>\n",
       "      <th>Rating</th>\n",
       "    </tr>\n",
       "  </thead>\n",
       "  <tbody>\n",
       "    <tr>\n",
       "      <th>3790</th>\n",
       "      <td>Front Mission 2</td>\n",
       "      <td>PS</td>\n",
       "      <td>1997.0</td>\n",
       "      <td>Strategy</td>\n",
       "      <td>0.0</td>\n",
       "      <td>0.00</td>\n",
       "      <td>0.49</td>\n",
       "      <td>0.03</td>\n",
       "      <td>NaN</td>\n",
       "      <td>NaN</td>\n",
       "      <td>NaN</td>\n",
       "    </tr>\n",
       "    <tr>\n",
       "      <th>9577</th>\n",
       "      <td>Spartan: Total Warrior</td>\n",
       "      <td>XB</td>\n",
       "      <td>2005.0</td>\n",
       "      <td>Action</td>\n",
       "      <td>0.1</td>\n",
       "      <td>0.03</td>\n",
       "      <td>0.00</td>\n",
       "      <td>0.00</td>\n",
       "      <td>73.0</td>\n",
       "      <td>8.8</td>\n",
       "      <td>M</td>\n",
       "    </tr>\n",
       "    <tr>\n",
       "      <th>12632</th>\n",
       "      <td>Magi: Aratanaru Sekai</td>\n",
       "      <td>3DS</td>\n",
       "      <td>2014.0</td>\n",
       "      <td>Role-Playing</td>\n",
       "      <td>0.0</td>\n",
       "      <td>0.00</td>\n",
       "      <td>0.06</td>\n",
       "      <td>0.00</td>\n",
       "      <td>NaN</td>\n",
       "      <td>NaN</td>\n",
       "      <td>NaN</td>\n",
       "    </tr>\n",
       "    <tr>\n",
       "      <th>11538</th>\n",
       "      <td>Sentimental Graffiti 2</td>\n",
       "      <td>DC</td>\n",
       "      <td>2000.0</td>\n",
       "      <td>Adventure</td>\n",
       "      <td>0.0</td>\n",
       "      <td>0.00</td>\n",
       "      <td>0.08</td>\n",
       "      <td>0.00</td>\n",
       "      <td>NaN</td>\n",
       "      <td>NaN</td>\n",
       "      <td>NaN</td>\n",
       "    </tr>\n",
       "    <tr>\n",
       "      <th>5266</th>\n",
       "      <td>Momotarou Dentetsu 12</td>\n",
       "      <td>PS2</td>\n",
       "      <td>2003.0</td>\n",
       "      <td>Misc</td>\n",
       "      <td>0.0</td>\n",
       "      <td>0.00</td>\n",
       "      <td>0.35</td>\n",
       "      <td>0.00</td>\n",
       "      <td>NaN</td>\n",
       "      <td>NaN</td>\n",
       "      <td>NaN</td>\n",
       "    </tr>\n",
       "  </tbody>\n",
       "</table>\n",
       "</div>"
      ],
      "text/plain": [
       "                         Name Platform  Year_of_Release         Genre  \\\n",
       "3790          Front Mission 2       PS           1997.0      Strategy   \n",
       "9577   Spartan: Total Warrior       XB           2005.0        Action   \n",
       "12632   Magi: Aratanaru Sekai      3DS           2014.0  Role-Playing   \n",
       "11538  Sentimental Graffiti 2       DC           2000.0     Adventure   \n",
       "5266    Momotarou Dentetsu 12      PS2           2003.0          Misc   \n",
       "\n",
       "       NA_sales  EU_sales  JP_sales  Other_sales  Critic_Score User_Score  \\\n",
       "3790        0.0      0.00      0.49         0.03           NaN        NaN   \n",
       "9577        0.1      0.03      0.00         0.00          73.0        8.8   \n",
       "12632       0.0      0.00      0.06         0.00           NaN        NaN   \n",
       "11538       0.0      0.00      0.08         0.00           NaN        NaN   \n",
       "5266        0.0      0.00      0.35         0.00           NaN        NaN   \n",
       "\n",
       "      Rating  \n",
       "3790     NaN  \n",
       "9577       M  \n",
       "12632    NaN  \n",
       "11538    NaN  \n",
       "5266     NaN  "
      ]
     },
     "execution_count": 3,
     "metadata": {},
     "output_type": "execute_result"
    }
   ],
   "source": [
    "df.sample(5)"
   ]
  },
  {
   "cell_type": "code",
   "execution_count": 4,
   "id": "a9a51b51",
   "metadata": {},
   "outputs": [
    {
     "data": {
      "text/html": [
       "<div>\n",
       "<style scoped>\n",
       "    .dataframe tbody tr th:only-of-type {\n",
       "        vertical-align: middle;\n",
       "    }\n",
       "\n",
       "    .dataframe tbody tr th {\n",
       "        vertical-align: top;\n",
       "    }\n",
       "\n",
       "    .dataframe thead th {\n",
       "        text-align: right;\n",
       "    }\n",
       "</style>\n",
       "<table border=\"1\" class=\"dataframe\">\n",
       "  <thead>\n",
       "    <tr style=\"text-align: right;\">\n",
       "      <th></th>\n",
       "      <th>Name</th>\n",
       "      <th>Platform</th>\n",
       "      <th>Year_of_Release</th>\n",
       "      <th>Genre</th>\n",
       "      <th>NA_sales</th>\n",
       "      <th>EU_sales</th>\n",
       "      <th>JP_sales</th>\n",
       "      <th>Other_sales</th>\n",
       "      <th>Critic_Score</th>\n",
       "      <th>User_Score</th>\n",
       "      <th>Rating</th>\n",
       "    </tr>\n",
       "  </thead>\n",
       "  <tbody>\n",
       "    <tr>\n",
       "      <th>16710</th>\n",
       "      <td>Samurai Warriors: Sanada Maru</td>\n",
       "      <td>PS3</td>\n",
       "      <td>2016.0</td>\n",
       "      <td>Action</td>\n",
       "      <td>0.00</td>\n",
       "      <td>0.00</td>\n",
       "      <td>0.01</td>\n",
       "      <td>0.0</td>\n",
       "      <td>NaN</td>\n",
       "      <td>NaN</td>\n",
       "      <td>NaN</td>\n",
       "    </tr>\n",
       "    <tr>\n",
       "      <th>16711</th>\n",
       "      <td>LMA Manager 2007</td>\n",
       "      <td>X360</td>\n",
       "      <td>2006.0</td>\n",
       "      <td>Sports</td>\n",
       "      <td>0.00</td>\n",
       "      <td>0.01</td>\n",
       "      <td>0.00</td>\n",
       "      <td>0.0</td>\n",
       "      <td>NaN</td>\n",
       "      <td>NaN</td>\n",
       "      <td>NaN</td>\n",
       "    </tr>\n",
       "    <tr>\n",
       "      <th>16712</th>\n",
       "      <td>Haitaka no Psychedelica</td>\n",
       "      <td>PSV</td>\n",
       "      <td>2016.0</td>\n",
       "      <td>Adventure</td>\n",
       "      <td>0.00</td>\n",
       "      <td>0.00</td>\n",
       "      <td>0.01</td>\n",
       "      <td>0.0</td>\n",
       "      <td>NaN</td>\n",
       "      <td>NaN</td>\n",
       "      <td>NaN</td>\n",
       "    </tr>\n",
       "    <tr>\n",
       "      <th>16713</th>\n",
       "      <td>Spirits &amp; Spells</td>\n",
       "      <td>GBA</td>\n",
       "      <td>2003.0</td>\n",
       "      <td>Platform</td>\n",
       "      <td>0.01</td>\n",
       "      <td>0.00</td>\n",
       "      <td>0.00</td>\n",
       "      <td>0.0</td>\n",
       "      <td>NaN</td>\n",
       "      <td>NaN</td>\n",
       "      <td>NaN</td>\n",
       "    </tr>\n",
       "    <tr>\n",
       "      <th>16714</th>\n",
       "      <td>Winning Post 8 2016</td>\n",
       "      <td>PSV</td>\n",
       "      <td>2016.0</td>\n",
       "      <td>Simulation</td>\n",
       "      <td>0.00</td>\n",
       "      <td>0.00</td>\n",
       "      <td>0.01</td>\n",
       "      <td>0.0</td>\n",
       "      <td>NaN</td>\n",
       "      <td>NaN</td>\n",
       "      <td>NaN</td>\n",
       "    </tr>\n",
       "  </tbody>\n",
       "</table>\n",
       "</div>"
      ],
      "text/plain": [
       "                                Name Platform  Year_of_Release       Genre  \\\n",
       "16710  Samurai Warriors: Sanada Maru      PS3           2016.0      Action   \n",
       "16711               LMA Manager 2007     X360           2006.0      Sports   \n",
       "16712        Haitaka no Psychedelica      PSV           2016.0   Adventure   \n",
       "16713               Spirits & Spells      GBA           2003.0    Platform   \n",
       "16714            Winning Post 8 2016      PSV           2016.0  Simulation   \n",
       "\n",
       "       NA_sales  EU_sales  JP_sales  Other_sales  Critic_Score User_Score  \\\n",
       "16710      0.00      0.00      0.01          0.0           NaN        NaN   \n",
       "16711      0.00      0.01      0.00          0.0           NaN        NaN   \n",
       "16712      0.00      0.00      0.01          0.0           NaN        NaN   \n",
       "16713      0.01      0.00      0.00          0.0           NaN        NaN   \n",
       "16714      0.00      0.00      0.01          0.0           NaN        NaN   \n",
       "\n",
       "      Rating  \n",
       "16710    NaN  \n",
       "16711    NaN  \n",
       "16712    NaN  \n",
       "16713    NaN  \n",
       "16714    NaN  "
      ]
     },
     "execution_count": 4,
     "metadata": {},
     "output_type": "execute_result"
    }
   ],
   "source": [
    "df.tail()"
   ]
  },
  {
   "cell_type": "markdown",
   "id": "ad389ad5",
   "metadata": {},
   "source": [
    "**Первый вывод:** в датасете более 16 тысяч строк, в некоторых столбцах (Critic_Score, User_Score, Rating) есть пропуски."
   ]
  },
  {
   "cell_type": "markdown",
   "id": "dcda9c27",
   "metadata": {},
   "source": [
    "# Шаг 2. Подготовим данные\n",
    "## 2.1 Изменим названия столбцов"
   ]
  },
  {
   "cell_type": "code",
   "execution_count": 5,
   "id": "0803ca54",
   "metadata": {},
   "outputs": [
    {
     "data": {
      "text/html": [
       "<div>\n",
       "<style scoped>\n",
       "    .dataframe tbody tr th:only-of-type {\n",
       "        vertical-align: middle;\n",
       "    }\n",
       "\n",
       "    .dataframe tbody tr th {\n",
       "        vertical-align: top;\n",
       "    }\n",
       "\n",
       "    .dataframe thead th {\n",
       "        text-align: right;\n",
       "    }\n",
       "</style>\n",
       "<table border=\"1\" class=\"dataframe\">\n",
       "  <thead>\n",
       "    <tr style=\"text-align: right;\">\n",
       "      <th></th>\n",
       "      <th>name</th>\n",
       "      <th>platform</th>\n",
       "      <th>year_of_release</th>\n",
       "      <th>genre</th>\n",
       "      <th>na_sales</th>\n",
       "      <th>eu_sales</th>\n",
       "      <th>jp_sales</th>\n",
       "      <th>other_sales</th>\n",
       "      <th>critic_score</th>\n",
       "      <th>user_score</th>\n",
       "      <th>rating</th>\n",
       "    </tr>\n",
       "  </thead>\n",
       "  <tbody>\n",
       "    <tr>\n",
       "      <th>0</th>\n",
       "      <td>Wii Sports</td>\n",
       "      <td>Wii</td>\n",
       "      <td>2006.0</td>\n",
       "      <td>Sports</td>\n",
       "      <td>41.36</td>\n",
       "      <td>28.96</td>\n",
       "      <td>3.77</td>\n",
       "      <td>8.45</td>\n",
       "      <td>76.0</td>\n",
       "      <td>8</td>\n",
       "      <td>E</td>\n",
       "    </tr>\n",
       "    <tr>\n",
       "      <th>1</th>\n",
       "      <td>Super Mario Bros.</td>\n",
       "      <td>NES</td>\n",
       "      <td>1985.0</td>\n",
       "      <td>Platform</td>\n",
       "      <td>29.08</td>\n",
       "      <td>3.58</td>\n",
       "      <td>6.81</td>\n",
       "      <td>0.77</td>\n",
       "      <td>NaN</td>\n",
       "      <td>NaN</td>\n",
       "      <td>NaN</td>\n",
       "    </tr>\n",
       "    <tr>\n",
       "      <th>2</th>\n",
       "      <td>Mario Kart Wii</td>\n",
       "      <td>Wii</td>\n",
       "      <td>2008.0</td>\n",
       "      <td>Racing</td>\n",
       "      <td>15.68</td>\n",
       "      <td>12.76</td>\n",
       "      <td>3.79</td>\n",
       "      <td>3.29</td>\n",
       "      <td>82.0</td>\n",
       "      <td>8.3</td>\n",
       "      <td>E</td>\n",
       "    </tr>\n",
       "    <tr>\n",
       "      <th>3</th>\n",
       "      <td>Wii Sports Resort</td>\n",
       "      <td>Wii</td>\n",
       "      <td>2009.0</td>\n",
       "      <td>Sports</td>\n",
       "      <td>15.61</td>\n",
       "      <td>10.93</td>\n",
       "      <td>3.28</td>\n",
       "      <td>2.95</td>\n",
       "      <td>80.0</td>\n",
       "      <td>8</td>\n",
       "      <td>E</td>\n",
       "    </tr>\n",
       "    <tr>\n",
       "      <th>4</th>\n",
       "      <td>Pokemon Red/Pokemon Blue</td>\n",
       "      <td>GB</td>\n",
       "      <td>1996.0</td>\n",
       "      <td>Role-Playing</td>\n",
       "      <td>11.27</td>\n",
       "      <td>8.89</td>\n",
       "      <td>10.22</td>\n",
       "      <td>1.00</td>\n",
       "      <td>NaN</td>\n",
       "      <td>NaN</td>\n",
       "      <td>NaN</td>\n",
       "    </tr>\n",
       "    <tr>\n",
       "      <th>...</th>\n",
       "      <td>...</td>\n",
       "      <td>...</td>\n",
       "      <td>...</td>\n",
       "      <td>...</td>\n",
       "      <td>...</td>\n",
       "      <td>...</td>\n",
       "      <td>...</td>\n",
       "      <td>...</td>\n",
       "      <td>...</td>\n",
       "      <td>...</td>\n",
       "      <td>...</td>\n",
       "    </tr>\n",
       "    <tr>\n",
       "      <th>16710</th>\n",
       "      <td>Samurai Warriors: Sanada Maru</td>\n",
       "      <td>PS3</td>\n",
       "      <td>2016.0</td>\n",
       "      <td>Action</td>\n",
       "      <td>0.00</td>\n",
       "      <td>0.00</td>\n",
       "      <td>0.01</td>\n",
       "      <td>0.00</td>\n",
       "      <td>NaN</td>\n",
       "      <td>NaN</td>\n",
       "      <td>NaN</td>\n",
       "    </tr>\n",
       "    <tr>\n",
       "      <th>16711</th>\n",
       "      <td>LMA Manager 2007</td>\n",
       "      <td>X360</td>\n",
       "      <td>2006.0</td>\n",
       "      <td>Sports</td>\n",
       "      <td>0.00</td>\n",
       "      <td>0.01</td>\n",
       "      <td>0.00</td>\n",
       "      <td>0.00</td>\n",
       "      <td>NaN</td>\n",
       "      <td>NaN</td>\n",
       "      <td>NaN</td>\n",
       "    </tr>\n",
       "    <tr>\n",
       "      <th>16712</th>\n",
       "      <td>Haitaka no Psychedelica</td>\n",
       "      <td>PSV</td>\n",
       "      <td>2016.0</td>\n",
       "      <td>Adventure</td>\n",
       "      <td>0.00</td>\n",
       "      <td>0.00</td>\n",
       "      <td>0.01</td>\n",
       "      <td>0.00</td>\n",
       "      <td>NaN</td>\n",
       "      <td>NaN</td>\n",
       "      <td>NaN</td>\n",
       "    </tr>\n",
       "    <tr>\n",
       "      <th>16713</th>\n",
       "      <td>Spirits &amp; Spells</td>\n",
       "      <td>GBA</td>\n",
       "      <td>2003.0</td>\n",
       "      <td>Platform</td>\n",
       "      <td>0.01</td>\n",
       "      <td>0.00</td>\n",
       "      <td>0.00</td>\n",
       "      <td>0.00</td>\n",
       "      <td>NaN</td>\n",
       "      <td>NaN</td>\n",
       "      <td>NaN</td>\n",
       "    </tr>\n",
       "    <tr>\n",
       "      <th>16714</th>\n",
       "      <td>Winning Post 8 2016</td>\n",
       "      <td>PSV</td>\n",
       "      <td>2016.0</td>\n",
       "      <td>Simulation</td>\n",
       "      <td>0.00</td>\n",
       "      <td>0.00</td>\n",
       "      <td>0.01</td>\n",
       "      <td>0.00</td>\n",
       "      <td>NaN</td>\n",
       "      <td>NaN</td>\n",
       "      <td>NaN</td>\n",
       "    </tr>\n",
       "  </tbody>\n",
       "</table>\n",
       "<p>16715 rows × 11 columns</p>\n",
       "</div>"
      ],
      "text/plain": [
       "                                name platform  year_of_release         genre  \\\n",
       "0                         Wii Sports      Wii           2006.0        Sports   \n",
       "1                  Super Mario Bros.      NES           1985.0      Platform   \n",
       "2                     Mario Kart Wii      Wii           2008.0        Racing   \n",
       "3                  Wii Sports Resort      Wii           2009.0        Sports   \n",
       "4           Pokemon Red/Pokemon Blue       GB           1996.0  Role-Playing   \n",
       "...                              ...      ...              ...           ...   \n",
       "16710  Samurai Warriors: Sanada Maru      PS3           2016.0        Action   \n",
       "16711               LMA Manager 2007     X360           2006.0        Sports   \n",
       "16712        Haitaka no Psychedelica      PSV           2016.0     Adventure   \n",
       "16713               Spirits & Spells      GBA           2003.0      Platform   \n",
       "16714            Winning Post 8 2016      PSV           2016.0    Simulation   \n",
       "\n",
       "       na_sales  eu_sales  jp_sales  other_sales  critic_score user_score  \\\n",
       "0         41.36     28.96      3.77         8.45          76.0          8   \n",
       "1         29.08      3.58      6.81         0.77           NaN        NaN   \n",
       "2         15.68     12.76      3.79         3.29          82.0        8.3   \n",
       "3         15.61     10.93      3.28         2.95          80.0          8   \n",
       "4         11.27      8.89     10.22         1.00           NaN        NaN   \n",
       "...         ...       ...       ...          ...           ...        ...   \n",
       "16710      0.00      0.00      0.01         0.00           NaN        NaN   \n",
       "16711      0.00      0.01      0.00         0.00           NaN        NaN   \n",
       "16712      0.00      0.00      0.01         0.00           NaN        NaN   \n",
       "16713      0.01      0.00      0.00         0.00           NaN        NaN   \n",
       "16714      0.00      0.00      0.01         0.00           NaN        NaN   \n",
       "\n",
       "      rating  \n",
       "0          E  \n",
       "1        NaN  \n",
       "2          E  \n",
       "3          E  \n",
       "4        NaN  \n",
       "...      ...  \n",
       "16710    NaN  \n",
       "16711    NaN  \n",
       "16712    NaN  \n",
       "16713    NaN  \n",
       "16714    NaN  \n",
       "\n",
       "[16715 rows x 11 columns]"
      ]
     },
     "execution_count": 5,
     "metadata": {},
     "output_type": "execute_result"
    }
   ],
   "source": [
    "df.columns = df.columns.str.lower()\n",
    "df"
   ]
  },
  {
   "cell_type": "markdown",
   "id": "43248f58",
   "metadata": {},
   "source": [
    "## 2.2 Преобразуем данные в нужные типы\n",
    "Опишем, в каких столбцах заменили тип данных и почему."
   ]
  },
  {
   "cell_type": "code",
   "execution_count": 6,
   "id": "deb17e55",
   "metadata": {},
   "outputs": [
    {
     "name": "stdout",
     "output_type": "stream",
     "text": [
      "<class 'pandas.core.frame.DataFrame'>\n",
      "RangeIndex: 16715 entries, 0 to 16714\n",
      "Data columns (total 11 columns):\n",
      " #   Column           Non-Null Count  Dtype  \n",
      "---  ------           --------------  -----  \n",
      " 0   name             16713 non-null  object \n",
      " 1   platform         16715 non-null  object \n",
      " 2   year_of_release  16446 non-null  float64\n",
      " 3   genre            16713 non-null  object \n",
      " 4   na_sales         16715 non-null  float64\n",
      " 5   eu_sales         16715 non-null  float64\n",
      " 6   jp_sales         16715 non-null  float64\n",
      " 7   other_sales      16715 non-null  float64\n",
      " 8   critic_score     8137 non-null   float64\n",
      " 9   user_score       10014 non-null  object \n",
      " 10  rating           9949 non-null   object \n",
      "dtypes: float64(6), object(5)\n",
      "memory usage: 1.4+ MB\n"
     ]
    }
   ],
   "source": [
    "df.info()"
   ]
  },
  {
   "cell_type": "markdown",
   "id": "a2665033",
   "metadata": {},
   "source": [
    "Изменим тип данных в следующих столбцах:  \n",
    "\n",
    "+ year_of_release — здесь должен быть тип данных int\n",
    "+ user_score — это числовой тип данных"
   ]
  },
  {
   "cell_type": "code",
   "execution_count": 47,
   "id": "0994b7c3",
   "metadata": {},
   "outputs": [],
   "source": [
    "df['year_of_release'] = df['year_of_release'].fillna(2036) #заменила пропуски на 2036.\n",
    "#Просто потому нужно же было их чем-то заменить\n",
    "df['year_of_release'] = df['year_of_release'].astype('int')"
   ]
  },
  {
   "cell_type": "markdown",
   "id": "a1e97f93",
   "metadata": {},
   "source": [
    "Попробовали заменить тип в user_score - не получилось. Посмотрим, что за значения в этом столбце."
   ]
  },
  {
   "cell_type": "code",
   "execution_count": 8,
   "id": "144c91c3",
   "metadata": {},
   "outputs": [
    {
     "data": {
      "text/plain": [
       "array(['8', nan, '8.3', '8.5', '6.6', '8.4', '8.6', '7.7', '6.3', '7.4',\n",
       "       '8.2', '9', '7.9', '8.1', '8.7', '7.1', '3.4', '5.3', '4.8', '3.2',\n",
       "       '8.9', '6.4', '7.8', '7.5', '2.6', '7.2', '9.2', '7', '7.3', '4.3',\n",
       "       '7.6', '5.7', '5', '9.1', '6.5', 'tbd', '8.8', '6.9', '9.4', '6.8',\n",
       "       '6.1', '6.7', '5.4', '4', '4.9', '4.5', '9.3', '6.2', '4.2', '6',\n",
       "       '3.7', '4.1', '5.8', '5.6', '5.5', '4.4', '4.6', '5.9', '3.9',\n",
       "       '3.1', '2.9', '5.2', '3.3', '4.7', '5.1', '3.5', '2.5', '1.9', '3',\n",
       "       '2.7', '2.2', '2', '9.5', '2.1', '3.6', '2.8', '1.8', '3.8', '0',\n",
       "       '1.6', '9.6', '2.4', '1.7', '1.1', '0.3', '1.5', '0.7', '1.2',\n",
       "       '2.3', '0.5', '1.3', '0.2', '0.6', '1.4', '0.9', '1', '9.7'],\n",
       "      dtype=object)"
      ]
     },
     "execution_count": 8,
     "metadata": {},
     "output_type": "execute_result"
    }
   ],
   "source": [
    "df['user_score'].unique()"
   ]
  },
  {
   "cell_type": "markdown",
   "id": "4fb7f651",
   "metadata": {},
   "source": [
    "Видим nan и tbd. tbd означает «подлежит уточнению», а значит можно тоже считать это пропуском. Заменим tbd на пропуски и поменяем тип данных:"
   ]
  },
  {
   "cell_type": "code",
   "execution_count": 9,
   "id": "01e7ba02",
   "metadata": {},
   "outputs": [
    {
     "name": "stdout",
     "output_type": "stream",
     "text": [
      "<class 'pandas.core.frame.DataFrame'>\n",
      "RangeIndex: 16715 entries, 0 to 16714\n",
      "Data columns (total 11 columns):\n",
      " #   Column           Non-Null Count  Dtype  \n",
      "---  ------           --------------  -----  \n",
      " 0   name             16713 non-null  object \n",
      " 1   platform         16715 non-null  object \n",
      " 2   year_of_release  16715 non-null  int64  \n",
      " 3   genre            16713 non-null  object \n",
      " 4   na_sales         16715 non-null  float64\n",
      " 5   eu_sales         16715 non-null  float64\n",
      " 6   jp_sales         16715 non-null  float64\n",
      " 7   other_sales      16715 non-null  float64\n",
      " 8   critic_score     8137 non-null   float64\n",
      " 9   user_score       7590 non-null   float64\n",
      " 10  rating           9949 non-null   object \n",
      "dtypes: float64(6), int64(1), object(4)\n",
      "memory usage: 1.4+ MB\n"
     ]
    }
   ],
   "source": [
    "df['user_score'] = df['user_score'].replace('tbd', np.nan, regex=True)\n",
    "df['user_score'] = df['user_score'].astype('float64')\n",
    "df.info()"
   ]
  },
  {
   "cell_type": "markdown",
   "id": "2111ce32",
   "metadata": {},
   "source": [
    "**Вывод:** мы привели данные к нужным типам."
   ]
  },
  {
   "cell_type": "markdown",
   "id": "4ba76908",
   "metadata": {},
   "source": [
    "## 2.3 Обработаем пропуски (при необходимости)\n",
    "+ Объясним, почему заполнили пропуски определённым образом или почему не стали это делать;\n",
    "+ Опишем причины, которые могли привести к пропускам;\n",
    "+ Отдельно разберем аббревиатуру 'tbd' в столбце с оценкой пользователей и опишем, как его обработать;"
   ]
  },
  {
   "cell_type": "markdown",
   "id": "f88b9b40",
   "metadata": {},
   "source": [
    "Сначала посмотрим на пропуски в данных."
   ]
  },
  {
   "cell_type": "code",
   "execution_count": 10,
   "id": "d458fb2c",
   "metadata": {},
   "outputs": [
    {
     "data": {
      "text/plain": [
       "name                0.011965\n",
       "platform            0.000000\n",
       "year_of_release     0.000000\n",
       "genre               0.011965\n",
       "na_sales            0.000000\n",
       "eu_sales            0.000000\n",
       "jp_sales            0.000000\n",
       "other_sales         0.000000\n",
       "critic_score       51.319174\n",
       "user_score         54.591684\n",
       "rating             40.478612\n",
       "dtype: float64"
      ]
     },
     "execution_count": 10,
     "metadata": {},
     "output_type": "execute_result"
    }
   ],
   "source": [
    "df.isna().mean()*100"
   ]
  },
  {
   "cell_type": "markdown",
   "id": "bdeb9897",
   "metadata": {},
   "source": [
    "Есть пропуски в name и genre. Удалим их:"
   ]
  },
  {
   "cell_type": "code",
   "execution_count": 11,
   "id": "7fc53a4f",
   "metadata": {},
   "outputs": [
    {
     "data": {
      "text/plain": [
       "name                0.000000\n",
       "platform            0.000000\n",
       "year_of_release     0.000000\n",
       "genre               0.000000\n",
       "na_sales            0.000000\n",
       "eu_sales            0.000000\n",
       "jp_sales            0.000000\n",
       "other_sales         0.000000\n",
       "critic_score       51.313349\n",
       "user_score         54.586250\n",
       "rating             40.471489\n",
       "dtype: float64"
      ]
     },
     "execution_count": 11,
     "metadata": {},
     "output_type": "execute_result"
    }
   ],
   "source": [
    "df = df.dropna(subset=['genre', 'name'])\n",
    "df.isna().mean()*100"
   ]
  },
  {
   "cell_type": "markdown",
   "id": "246ce6e1",
   "metadata": {},
   "source": [
    "У нас довольно большие пропуски в critic_score и user_score (больше половины), а также 40% пропусков в rating.  \n",
    "\n",
    "Причины пропусков в рейтинге нам неизвестны; если заменять медианой или средним, получим искажение. Поэтому поставим «заглушки»."
   ]
  },
  {
   "cell_type": "code",
   "execution_count": 12,
   "id": "b090d63c",
   "metadata": {},
   "outputs": [
    {
     "name": "stderr",
     "output_type": "stream",
     "text": [
      "/var/folders/9c/717fbzy1057_6lkjlqtl3ygr0000gn/T/ipykernel_12435/4266767494.py:1: SettingWithCopyWarning: \n",
      "A value is trying to be set on a copy of a slice from a DataFrame.\n",
      "Try using .loc[row_indexer,col_indexer] = value instead\n",
      "\n",
      "See the caveats in the documentation: https://pandas.pydata.org/pandas-docs/stable/user_guide/indexing.html#returning-a-view-versus-a-copy\n",
      "  df['user_score'] = df['user_score'].fillna(-1)\n",
      "/var/folders/9c/717fbzy1057_6lkjlqtl3ygr0000gn/T/ipykernel_12435/4266767494.py:2: SettingWithCopyWarning: \n",
      "A value is trying to be set on a copy of a slice from a DataFrame.\n",
      "Try using .loc[row_indexer,col_indexer] = value instead\n",
      "\n",
      "See the caveats in the documentation: https://pandas.pydata.org/pandas-docs/stable/user_guide/indexing.html#returning-a-view-versus-a-copy\n",
      "  df['critic_score'] = df['critic_score'].fillna(-1)\n",
      "/var/folders/9c/717fbzy1057_6lkjlqtl3ygr0000gn/T/ipykernel_12435/4266767494.py:3: SettingWithCopyWarning: \n",
      "A value is trying to be set on a copy of a slice from a DataFrame.\n",
      "Try using .loc[row_indexer,col_indexer] = value instead\n",
      "\n",
      "See the caveats in the documentation: https://pandas.pydata.org/pandas-docs/stable/user_guide/indexing.html#returning-a-view-versus-a-copy\n",
      "  df['rating'] = df['rating'].fillna('неизвестно')\n"
     ]
    }
   ],
   "source": [
    "df['user_score'] = df['user_score'].fillna(-1)\n",
    "df['critic_score'] = df['critic_score'].fillna(-1)\n",
    "df['rating'] = df['rating'].fillna('неизвестно')"
   ]
  },
  {
   "cell_type": "markdown",
   "id": "c3de8c00",
   "metadata": {},
   "source": [
    "Что касаемо значений tbd, их мы уже заменили на пропуски. Т.к. tbd означает «будет уточнено» или «будет добавлено». А значит этих значений на данный момент у нас нет."
   ]
  },
  {
   "cell_type": "markdown",
   "id": "2c3368f3",
   "metadata": {},
   "source": [
    "**Вывод**:  \n",
    "\n",
    "Мы заменили пропуски в столбцах с рейтингом и оценкой. Причины возникновения таких пропусков неизвестны. Заменили пропуски на заглушки «-1», кроме столбца year_of_release — там пропуски заменили заглушкой «2036». Пропуски нельзя было заменить медианой или средним рейтингом, т.к это исказило бы данные. "
   ]
  },
  {
   "cell_type": "markdown",
   "id": "21011186",
   "metadata": {},
   "source": [
    "## 2.4 Посчитаем суммарные продажи во всех регионах и запишите их в отдельный столбец.\n"
   ]
  },
  {
   "cell_type": "code",
   "execution_count": 48,
   "id": "ccba7c78",
   "metadata": {},
   "outputs": [
    {
     "data": {
      "text/html": [
       "<div>\n",
       "<style scoped>\n",
       "    .dataframe tbody tr th:only-of-type {\n",
       "        vertical-align: middle;\n",
       "    }\n",
       "\n",
       "    .dataframe tbody tr th {\n",
       "        vertical-align: top;\n",
       "    }\n",
       "\n",
       "    .dataframe thead th {\n",
       "        text-align: right;\n",
       "    }\n",
       "</style>\n",
       "<table border=\"1\" class=\"dataframe\">\n",
       "  <thead>\n",
       "    <tr style=\"text-align: right;\">\n",
       "      <th></th>\n",
       "      <th>name</th>\n",
       "      <th>platform</th>\n",
       "      <th>year_of_release</th>\n",
       "      <th>genre</th>\n",
       "      <th>na_sales</th>\n",
       "      <th>eu_sales</th>\n",
       "      <th>jp_sales</th>\n",
       "      <th>other_sales</th>\n",
       "      <th>critic_score</th>\n",
       "      <th>user_score</th>\n",
       "      <th>rating</th>\n",
       "      <th>total_sales</th>\n",
       "    </tr>\n",
       "  </thead>\n",
       "  <tbody>\n",
       "    <tr>\n",
       "      <th>16</th>\n",
       "      <td>Grand Theft Auto V</td>\n",
       "      <td>PS3</td>\n",
       "      <td>2013</td>\n",
       "      <td>Action</td>\n",
       "      <td>7.02</td>\n",
       "      <td>9.09</td>\n",
       "      <td>0.98</td>\n",
       "      <td>3.96</td>\n",
       "      <td>97.0</td>\n",
       "      <td>8.2</td>\n",
       "      <td>M</td>\n",
       "      <td>21.05</td>\n",
       "    </tr>\n",
       "    <tr>\n",
       "      <th>23</th>\n",
       "      <td>Grand Theft Auto V</td>\n",
       "      <td>X360</td>\n",
       "      <td>2013</td>\n",
       "      <td>Action</td>\n",
       "      <td>9.66</td>\n",
       "      <td>5.14</td>\n",
       "      <td>0.06</td>\n",
       "      <td>1.41</td>\n",
       "      <td>97.0</td>\n",
       "      <td>8.1</td>\n",
       "      <td>M</td>\n",
       "      <td>16.27</td>\n",
       "    </tr>\n",
       "    <tr>\n",
       "      <th>42</th>\n",
       "      <td>Grand Theft Auto V</td>\n",
       "      <td>PS4</td>\n",
       "      <td>2014</td>\n",
       "      <td>Action</td>\n",
       "      <td>3.96</td>\n",
       "      <td>6.31</td>\n",
       "      <td>0.38</td>\n",
       "      <td>1.97</td>\n",
       "      <td>97.0</td>\n",
       "      <td>8.3</td>\n",
       "      <td>M</td>\n",
       "      <td>12.62</td>\n",
       "    </tr>\n",
       "    <tr>\n",
       "      <th>60</th>\n",
       "      <td>Call of Duty: Ghosts</td>\n",
       "      <td>X360</td>\n",
       "      <td>2013</td>\n",
       "      <td>Shooter</td>\n",
       "      <td>6.73</td>\n",
       "      <td>2.56</td>\n",
       "      <td>0.04</td>\n",
       "      <td>0.91</td>\n",
       "      <td>73.0</td>\n",
       "      <td>2.6</td>\n",
       "      <td>M</td>\n",
       "      <td>10.24</td>\n",
       "    </tr>\n",
       "    <tr>\n",
       "      <th>69</th>\n",
       "      <td>Call of Duty: Ghosts</td>\n",
       "      <td>PS3</td>\n",
       "      <td>2013</td>\n",
       "      <td>Shooter</td>\n",
       "      <td>4.10</td>\n",
       "      <td>3.63</td>\n",
       "      <td>0.38</td>\n",
       "      <td>1.25</td>\n",
       "      <td>71.0</td>\n",
       "      <td>2.6</td>\n",
       "      <td>M</td>\n",
       "      <td>9.36</td>\n",
       "    </tr>\n",
       "  </tbody>\n",
       "</table>\n",
       "</div>"
      ],
      "text/plain": [
       "                    name platform  year_of_release    genre  na_sales  \\\n",
       "16    Grand Theft Auto V      PS3             2013   Action      7.02   \n",
       "23    Grand Theft Auto V     X360             2013   Action      9.66   \n",
       "42    Grand Theft Auto V      PS4             2014   Action      3.96   \n",
       "60  Call of Duty: Ghosts     X360             2013  Shooter      6.73   \n",
       "69  Call of Duty: Ghosts      PS3             2013  Shooter      4.10   \n",
       "\n",
       "    eu_sales  jp_sales  other_sales  critic_score  user_score rating  \\\n",
       "16      9.09      0.98         3.96          97.0         8.2      M   \n",
       "23      5.14      0.06         1.41          97.0         8.1      M   \n",
       "42      6.31      0.38         1.97          97.0         8.3      M   \n",
       "60      2.56      0.04         0.91          73.0         2.6      M   \n",
       "69      3.63      0.38         1.25          71.0         2.6      M   \n",
       "\n",
       "    total_sales  \n",
       "16        21.05  \n",
       "23        16.27  \n",
       "42        12.62  \n",
       "60        10.24  \n",
       "69         9.36  "
      ]
     },
     "execution_count": 48,
     "metadata": {},
     "output_type": "execute_result"
    }
   ],
   "source": [
    "df['total_sales'] = df[['na_sales','eu_sales','jp_sales', 'other_sales']].sum(axis = 1)\n",
    "df.head()"
   ]
  },
  {
   "cell_type": "markdown",
   "id": "13f72d6a",
   "metadata": {},
   "source": [
    "**Вывод:** мы подготовили данные к исследованию. А именно:\n",
    "+ привели названия столбцов к нижнему регистру\n",
    "+ преобразовали данные в нужные типы\n",
    "+ заменили пропуски на заглушки, т.к. это единственный вариант замены без искажения данных. Причины пропусков нам неизвестны. Единственное — можно сделать предположение, что в Японии своя система оценки игр CERO, которая отличается от ESRB. Кроме того, другая система оценки игр и в Европе (PEGI). Поэтому могут возникать пропуски.\n",
    "+ Посчитали суммарные продажи во всех регионах и записали их в отдельный столбец."
   ]
  },
  {
   "cell_type": "markdown",
   "id": "395eca85",
   "metadata": {},
   "source": [
    "# Шаг 3. Проведем исследовательский анализ данных.\n",
    "## 3.1 Посмотрим, сколько игр выпускалось за разные годы\n",
    "И ответим на вопрос — важны ли данные за все периоды?"
   ]
  },
  {
   "cell_type": "code",
   "execution_count": 14,
   "id": "82ede0da",
   "metadata": {},
   "outputs": [
    {
     "data": {
      "image/png": "[encoded data removed]",
      "text/plain": [
       "<Figure size 432x288 with 1 Axes>"
      ]
     },
     "metadata": {
      "needs_background": "light"
     },
     "output_type": "display_data"
    }
   ],
   "source": [
    "df['year_of_release'].plot(kind='hist', bins=36, range=(1980, 2015), ec='black')\n",
    "plt.title('Количество игр, выпускаемых в разные годы');"
   ]
  },
  {
   "cell_type": "markdown",
   "id": "f3abc27e",
   "metadata": {},
   "source": [
    "**Вывод:** Больше всего игр выпускалось в **2009** и **2010** годах. Можем предположить, что можно отбросить данные с играми, выпущенными ранее 1995 года, т.к. именно с 1995 начался рост в гейм-индустрии. Может быть, это из-за того что вышла Windows 95 и у разработчиков стало больше возможностей. А в 2012 по 2015 был спад."
   ]
  },
  {
   "cell_type": "markdown",
   "id": "b3758282",
   "metadata": {},
   "source": [
    "## 3.2 Посмотрим, как менялись продажи по платформам.\n",
    "Выберем платформы с наибольшими суммарными продажами и построим распределение по годам. Ответим на вопрос — за какой характерный срок появляются новые и исчезают старые платформы?"
   ]
  },
  {
   "cell_type": "markdown",
   "id": "fbee4664",
   "metadata": {},
   "source": [
    "Чтобы посмотреть на платформы с наибольшими суммарными продажами, построим сводную таблицу."
   ]
  },
  {
   "cell_type": "code",
   "execution_count": 15,
   "id": "64367bea",
   "metadata": {},
   "outputs": [
    {
     "data": {
      "text/html": [
       "<div>\n",
       "<style scoped>\n",
       "    .dataframe tbody tr th:only-of-type {\n",
       "        vertical-align: middle;\n",
       "    }\n",
       "\n",
       "    .dataframe tbody tr th {\n",
       "        vertical-align: top;\n",
       "    }\n",
       "\n",
       "    .dataframe thead th {\n",
       "        text-align: right;\n",
       "    }\n",
       "</style>\n",
       "<table border=\"1\" class=\"dataframe\">\n",
       "  <thead>\n",
       "    <tr style=\"text-align: right;\">\n",
       "      <th></th>\n",
       "      <th>platform</th>\n",
       "      <th>total_sales</th>\n",
       "      <th>year_of_release</th>\n",
       "    </tr>\n",
       "  </thead>\n",
       "  <tbody>\n",
       "    <tr>\n",
       "      <th>0</th>\n",
       "      <td>PS2</td>\n",
       "      <td>1255.77</td>\n",
       "      <td>2000</td>\n",
       "    </tr>\n",
       "    <tr>\n",
       "      <th>1</th>\n",
       "      <td>X360</td>\n",
       "      <td>971.42</td>\n",
       "      <td>2005</td>\n",
       "    </tr>\n",
       "    <tr>\n",
       "      <th>2</th>\n",
       "      <td>PS3</td>\n",
       "      <td>939.65</td>\n",
       "      <td>2006</td>\n",
       "    </tr>\n",
       "    <tr>\n",
       "      <th>3</th>\n",
       "      <td>Wii</td>\n",
       "      <td>907.51</td>\n",
       "      <td>2006</td>\n",
       "    </tr>\n",
       "    <tr>\n",
       "      <th>4</th>\n",
       "      <td>DS</td>\n",
       "      <td>806.12</td>\n",
       "      <td>1985</td>\n",
       "    </tr>\n",
       "    <tr>\n",
       "      <th>5</th>\n",
       "      <td>PS</td>\n",
       "      <td>730.86</td>\n",
       "      <td>1994</td>\n",
       "    </tr>\n",
       "    <tr>\n",
       "      <th>6</th>\n",
       "      <td>GBA</td>\n",
       "      <td>317.85</td>\n",
       "      <td>2000</td>\n",
       "    </tr>\n",
       "    <tr>\n",
       "      <th>7</th>\n",
       "      <td>PS4</td>\n",
       "      <td>314.14</td>\n",
       "      <td>2013</td>\n",
       "    </tr>\n",
       "    <tr>\n",
       "      <th>8</th>\n",
       "      <td>PSP</td>\n",
       "      <td>294.05</td>\n",
       "      <td>2004</td>\n",
       "    </tr>\n",
       "    <tr>\n",
       "      <th>9</th>\n",
       "      <td>PC</td>\n",
       "      <td>259.52</td>\n",
       "      <td>1985</td>\n",
       "    </tr>\n",
       "  </tbody>\n",
       "</table>\n",
       "</div>"
      ],
      "text/plain": [
       "  platform  total_sales  year_of_release\n",
       "0      PS2      1255.77             2000\n",
       "1     X360       971.42             2005\n",
       "2      PS3       939.65             2006\n",
       "3      Wii       907.51             2006\n",
       "4       DS       806.12             1985\n",
       "5       PS       730.86             1994\n",
       "6      GBA       317.85             2000\n",
       "7      PS4       314.14             2013\n",
       "8      PSP       294.05             2004\n",
       "9       PC       259.52             1985"
      ]
     },
     "execution_count": 15,
     "metadata": {},
     "output_type": "execute_result"
    }
   ],
   "source": [
    "df_pltfrm = df.pivot_table(index='platform',\n",
    "values=['total_sales', 'year_of_release'],\n",
    "aggfunc={'total_sales':sum, 'year_of_release':min}).sort_values(by='total_sales', ascending=False).reset_index()\n",
    "\n",
    "df_pltfrm.head(10)"
   ]
  },
  {
   "cell_type": "markdown",
   "id": "ea0ece3e",
   "metadata": {},
   "source": [
    "Видим, что первые 6 платформ имеют больше всего продаж. По ним и будем строить распределение по годам."
   ]
  },
  {
   "cell_type": "code",
   "execution_count": 16,
   "id": "c053b2aa",
   "metadata": {},
   "outputs": [
    {
     "data": {
      "text/plain": [
       "array(['PS2', 'X360', 'PS3', 'Wii', 'DS', 'PS', 'GBA', 'PS4', 'PSP', 'PC'],\n",
       "      dtype=object)"
      ]
     },
     "execution_count": 16,
     "metadata": {},
     "output_type": "execute_result"
    }
   ],
   "source": [
    "df_pltfrm_top = df_pltfrm.head(10)\n",
    "top10 = df_pltfrm_top['platform'].unique()\n",
    "top10"
   ]
  },
  {
   "cell_type": "code",
   "execution_count": 17,
   "id": "b858181f",
   "metadata": {},
   "outputs": [
    {
     "data": {
      "text/html": [
       "<div>\n",
       "<style scoped>\n",
       "    .dataframe tbody tr th:only-of-type {\n",
       "        vertical-align: middle;\n",
       "    }\n",
       "\n",
       "    .dataframe tbody tr th {\n",
       "        vertical-align: top;\n",
       "    }\n",
       "\n",
       "    .dataframe thead th {\n",
       "        text-align: right;\n",
       "    }\n",
       "</style>\n",
       "<table border=\"1\" class=\"dataframe\">\n",
       "  <thead>\n",
       "    <tr style=\"text-align: right;\">\n",
       "      <th></th>\n",
       "      <th>platform</th>\n",
       "      <th>year_of_release</th>\n",
       "      <th>total_sales</th>\n",
       "    </tr>\n",
       "  </thead>\n",
       "  <tbody>\n",
       "    <tr>\n",
       "      <th>0</th>\n",
       "      <td>DS</td>\n",
       "      <td>1985</td>\n",
       "      <td>0.02</td>\n",
       "    </tr>\n",
       "    <tr>\n",
       "      <th>1</th>\n",
       "      <td>DS</td>\n",
       "      <td>2004</td>\n",
       "      <td>17.27</td>\n",
       "    </tr>\n",
       "    <tr>\n",
       "      <th>2</th>\n",
       "      <td>DS</td>\n",
       "      <td>2005</td>\n",
       "      <td>130.14</td>\n",
       "    </tr>\n",
       "    <tr>\n",
       "      <th>3</th>\n",
       "      <td>DS</td>\n",
       "      <td>2006</td>\n",
       "      <td>119.81</td>\n",
       "    </tr>\n",
       "    <tr>\n",
       "      <th>4</th>\n",
       "      <td>DS</td>\n",
       "      <td>2007</td>\n",
       "      <td>146.94</td>\n",
       "    </tr>\n",
       "    <tr>\n",
       "      <th>5</th>\n",
       "      <td>DS</td>\n",
       "      <td>2008</td>\n",
       "      <td>145.31</td>\n",
       "    </tr>\n",
       "    <tr>\n",
       "      <th>6</th>\n",
       "      <td>DS</td>\n",
       "      <td>2009</td>\n",
       "      <td>119.54</td>\n",
       "    </tr>\n",
       "    <tr>\n",
       "      <th>7</th>\n",
       "      <td>DS</td>\n",
       "      <td>2010</td>\n",
       "      <td>85.02</td>\n",
       "    </tr>\n",
       "    <tr>\n",
       "      <th>8</th>\n",
       "      <td>DS</td>\n",
       "      <td>2011</td>\n",
       "      <td>26.18</td>\n",
       "    </tr>\n",
       "    <tr>\n",
       "      <th>9</th>\n",
       "      <td>DS</td>\n",
       "      <td>2012</td>\n",
       "      <td>11.01</td>\n",
       "    </tr>\n",
       "  </tbody>\n",
       "</table>\n",
       "</div>"
      ],
      "text/plain": [
       "  platform  year_of_release  total_sales\n",
       "0       DS             1985         0.02\n",
       "1       DS             2004        17.27\n",
       "2       DS             2005       130.14\n",
       "3       DS             2006       119.81\n",
       "4       DS             2007       146.94\n",
       "5       DS             2008       145.31\n",
       "6       DS             2009       119.54\n",
       "7       DS             2010        85.02\n",
       "8       DS             2011        26.18\n",
       "9       DS             2012        11.01"
      ]
     },
     "execution_count": 17,
     "metadata": {},
     "output_type": "execute_result"
    }
   ],
   "source": [
    "top_pltfrm = df.query('platform in @top10')\n",
    "best_sales = top_pltfrm.pivot_table(index=['platform', 'year_of_release'],\n",
    "values='total_sales', aggfunc='sum').reset_index()\n",
    "best_sales.head(10)\n"
   ]
  },
  {
   "cell_type": "code",
   "execution_count": 18,
   "id": "7ee3906f",
   "metadata": {},
   "outputs": [],
   "source": [
    "def sell_line(data):\n",
    "    sns.color_palette('husl', 15)\n",
    "    sns.set_theme()\n",
    "    plt.figure(figsize=(18,8))\n",
    "    plt.xlabel('Год продажи')\n",
    "    plt.ylabel('Количество продаж в год')\n",
    "    plt.title('Статистика продаж игр на разных платформах по годам')\n",
    "    sns.lineplot(data=data, x='year_of_release', y='total_sales', hue='platform', linewidth=5, marker = 'o')"
   ]
  },
  {
   "cell_type": "code",
   "execution_count": 19,
   "id": "70bc7cb1",
   "metadata": {
    "scrolled": false
   },
   "outputs": [
    {
     "data": {
      "image/png": "[encoded data removed]",
      "text/plain": [
       "<Figure size 1296x576 with 1 Axes>"
      ]
     },
     "metadata": {},
     "output_type": "display_data"
    }
   ],
   "source": [
    "sell_line(best_sales)"
   ]
  },
  {
   "cell_type": "markdown",
   "id": "148e4c73",
   "metadata": {},
   "source": [
    "Посмотрим, за какой характерный срок появляются новые и исчезают старые платформы:\n",
    "+ DS – появилась в 1985, с 2003 данные нормально начинают отслеживать, пик — в 2008, исчезла примерно в 2013. Срок жизни будем сичтать 10 лет.\n",
    "+ PS – появилась в 1994, пик — в 1998, исчезла примерно в 2003. Срок жизни — 9 лет.\n",
    "+ PS2 — появилась в 2000, пик — в 2003, исчезла примерно в 2011. Срок жизни — 11 лет.\n",
    "+ PS3 — появилась в 2006, пик — в 2011, в 2013 пошла на спад. (возможно, вышла PS4)\n",
    "+ Wii — появилась в 2006, пик — в 2009, но в 2016 уже почти изжила себя.\n",
    "+ X360 — появилась в 2005, пик — в 2020, в 2013 пошла на спад.\n",
    "+ GBA  – появилась в 2000, исчезла в 2006.\n",
    "+ PS – появилась в 1994, к 2003 изжила себя.\n",
    "+ PS3 — вышла в 2013 и до сих пор есть продажи.\n",
    "+ PC – вышла в 1985, продажи к 2016 почти нет.\n",
    "\n",
    "**Вывод**: в среднем платформа живет 10 лет."
   ]
  },
  {
   "cell_type": "markdown",
   "id": "0a0e3e90",
   "metadata": {},
   "source": [
    "## 3.3 Узнаем, какие платформы лидируют по продажам, растут или падают.\n",
    "Выберем несколько потенциально прибыльных платформ.Возьмем данные за соответствующий актуальный период. Актуальный период определим самостоятельно в результате исследования предыдущих вопросов. Основной фактор — эти данные помогут построить прогноз на 2017 год.\n",
    "Не учитываем в работе данные за предыдущие годы.\n"
   ]
  },
  {
   "cell_type": "markdown",
   "id": "74193464",
   "metadata": {},
   "source": [
    "**Какой период будем считать актуальным?** Возьмем данные с 2013 года, т.к. в этом году вышли PS4 и Xbox One, на которые до сих пор выходят игры.  \n",
    "\n",
    "Соответственно, сделаем срез (2036 — это заглушка):"
   ]
  },
  {
   "cell_type": "code",
   "execution_count": 46,
   "id": "14c71298",
   "metadata": {},
   "outputs": [
    {
     "data": {
      "text/html": [
       "<div>\n",
       "<style scoped>\n",
       "    .dataframe tbody tr th:only-of-type {\n",
       "        vertical-align: middle;\n",
       "    }\n",
       "\n",
       "    .dataframe tbody tr th {\n",
       "        vertical-align: top;\n",
       "    }\n",
       "\n",
       "    .dataframe thead th {\n",
       "        text-align: right;\n",
       "    }\n",
       "</style>\n",
       "<table border=\"1\" class=\"dataframe\">\n",
       "  <thead>\n",
       "    <tr style=\"text-align: right;\">\n",
       "      <th></th>\n",
       "      <th>name</th>\n",
       "      <th>platform</th>\n",
       "      <th>year_of_release</th>\n",
       "      <th>genre</th>\n",
       "      <th>na_sales</th>\n",
       "      <th>eu_sales</th>\n",
       "      <th>jp_sales</th>\n",
       "      <th>other_sales</th>\n",
       "      <th>critic_score</th>\n",
       "      <th>user_score</th>\n",
       "      <th>rating</th>\n",
       "      <th>total_sales</th>\n",
       "    </tr>\n",
       "  </thead>\n",
       "  <tbody>\n",
       "    <tr>\n",
       "      <th>16</th>\n",
       "      <td>Grand Theft Auto V</td>\n",
       "      <td>PS3</td>\n",
       "      <td>2013</td>\n",
       "      <td>Action</td>\n",
       "      <td>7.02</td>\n",
       "      <td>9.09</td>\n",
       "      <td>0.98</td>\n",
       "      <td>3.96</td>\n",
       "      <td>97.0</td>\n",
       "      <td>8.2</td>\n",
       "      <td>M</td>\n",
       "      <td>21.05</td>\n",
       "    </tr>\n",
       "    <tr>\n",
       "      <th>23</th>\n",
       "      <td>Grand Theft Auto V</td>\n",
       "      <td>X360</td>\n",
       "      <td>2013</td>\n",
       "      <td>Action</td>\n",
       "      <td>9.66</td>\n",
       "      <td>5.14</td>\n",
       "      <td>0.06</td>\n",
       "      <td>1.41</td>\n",
       "      <td>97.0</td>\n",
       "      <td>8.1</td>\n",
       "      <td>M</td>\n",
       "      <td>16.27</td>\n",
       "    </tr>\n",
       "    <tr>\n",
       "      <th>42</th>\n",
       "      <td>Grand Theft Auto V</td>\n",
       "      <td>PS4</td>\n",
       "      <td>2014</td>\n",
       "      <td>Action</td>\n",
       "      <td>3.96</td>\n",
       "      <td>6.31</td>\n",
       "      <td>0.38</td>\n",
       "      <td>1.97</td>\n",
       "      <td>97.0</td>\n",
       "      <td>8.3</td>\n",
       "      <td>M</td>\n",
       "      <td>12.62</td>\n",
       "    </tr>\n",
       "    <tr>\n",
       "      <th>60</th>\n",
       "      <td>Call of Duty: Ghosts</td>\n",
       "      <td>X360</td>\n",
       "      <td>2013</td>\n",
       "      <td>Shooter</td>\n",
       "      <td>6.73</td>\n",
       "      <td>2.56</td>\n",
       "      <td>0.04</td>\n",
       "      <td>0.91</td>\n",
       "      <td>73.0</td>\n",
       "      <td>2.6</td>\n",
       "      <td>M</td>\n",
       "      <td>10.24</td>\n",
       "    </tr>\n",
       "    <tr>\n",
       "      <th>69</th>\n",
       "      <td>Call of Duty: Ghosts</td>\n",
       "      <td>PS3</td>\n",
       "      <td>2013</td>\n",
       "      <td>Shooter</td>\n",
       "      <td>4.10</td>\n",
       "      <td>3.63</td>\n",
       "      <td>0.38</td>\n",
       "      <td>1.25</td>\n",
       "      <td>71.0</td>\n",
       "      <td>2.6</td>\n",
       "      <td>M</td>\n",
       "      <td>9.36</td>\n",
       "    </tr>\n",
       "  </tbody>\n",
       "</table>\n",
       "</div>"
      ],
      "text/plain": [
       "                    name platform  year_of_release    genre  na_sales  \\\n",
       "16    Grand Theft Auto V      PS3             2013   Action      7.02   \n",
       "23    Grand Theft Auto V     X360             2013   Action      9.66   \n",
       "42    Grand Theft Auto V      PS4             2014   Action      3.96   \n",
       "60  Call of Duty: Ghosts     X360             2013  Shooter      6.73   \n",
       "69  Call of Duty: Ghosts      PS3             2013  Shooter      4.10   \n",
       "\n",
       "    eu_sales  jp_sales  other_sales  critic_score  user_score rating  \\\n",
       "16      9.09      0.98         3.96          97.0         8.2      M   \n",
       "23      5.14      0.06         1.41          97.0         8.1      M   \n",
       "42      6.31      0.38         1.97          97.0         8.3      M   \n",
       "60      2.56      0.04         0.91          73.0         2.6      M   \n",
       "69      3.63      0.38         1.25          71.0         2.6      M   \n",
       "\n",
       "    total_sales  \n",
       "16        21.05  \n",
       "23        16.27  \n",
       "42        12.62  \n",
       "60        10.24  \n",
       "69         9.36  "
      ]
     },
     "execution_count": 46,
     "metadata": {},
     "output_type": "execute_result"
    }
   ],
   "source": [
    "df = df.query('year_of_release>=2013 and year_of_release!=2036')\n",
    "df.head()"
   ]
  },
  {
   "cell_type": "markdown",
   "id": "68664536",
   "metadata": {},
   "source": [
    "Сделаем сводную таблицу, как в предыдущем пункте."
   ]
  },
  {
   "cell_type": "code",
   "execution_count": 21,
   "id": "83a889db",
   "metadata": {},
   "outputs": [
    {
     "data": {
      "text/html": [
       "<div>\n",
       "<style scoped>\n",
       "    .dataframe tbody tr th:only-of-type {\n",
       "        vertical-align: middle;\n",
       "    }\n",
       "\n",
       "    .dataframe tbody tr th {\n",
       "        vertical-align: top;\n",
       "    }\n",
       "\n",
       "    .dataframe thead th {\n",
       "        text-align: right;\n",
       "    }\n",
       "</style>\n",
       "<table border=\"1\" class=\"dataframe\">\n",
       "  <thead>\n",
       "    <tr style=\"text-align: right;\">\n",
       "      <th></th>\n",
       "      <th>platform</th>\n",
       "      <th>year_of_release</th>\n",
       "      <th>total_sales</th>\n",
       "    </tr>\n",
       "  </thead>\n",
       "  <tbody>\n",
       "    <tr>\n",
       "      <th>0</th>\n",
       "      <td>3DS</td>\n",
       "      <td>2013</td>\n",
       "      <td>56.57</td>\n",
       "    </tr>\n",
       "    <tr>\n",
       "      <th>1</th>\n",
       "      <td>3DS</td>\n",
       "      <td>2014</td>\n",
       "      <td>43.76</td>\n",
       "    </tr>\n",
       "    <tr>\n",
       "      <th>2</th>\n",
       "      <td>3DS</td>\n",
       "      <td>2015</td>\n",
       "      <td>27.78</td>\n",
       "    </tr>\n",
       "    <tr>\n",
       "      <th>3</th>\n",
       "      <td>3DS</td>\n",
       "      <td>2016</td>\n",
       "      <td>15.14</td>\n",
       "    </tr>\n",
       "    <tr>\n",
       "      <th>4</th>\n",
       "      <td>DS</td>\n",
       "      <td>2013</td>\n",
       "      <td>1.54</td>\n",
       "    </tr>\n",
       "  </tbody>\n",
       "</table>\n",
       "</div>"
      ],
      "text/plain": [
       "  platform  year_of_release  total_sales\n",
       "0      3DS             2013        56.57\n",
       "1      3DS             2014        43.76\n",
       "2      3DS             2015        27.78\n",
       "3      3DS             2016        15.14\n",
       "4       DS             2013         1.54"
      ]
     },
     "execution_count": 21,
     "metadata": {},
     "output_type": "execute_result"
    }
   ],
   "source": [
    "act_platform = df.pivot_table(index=['platform', 'year_of_release'],\n",
    "values='total_sales', aggfunc='sum').reset_index()\n",
    "act_platform.head()"
   ]
  },
  {
   "cell_type": "markdown",
   "id": "405c7a38",
   "metadata": {},
   "source": [
    "По этой сводной таблице построим график."
   ]
  },
  {
   "cell_type": "code",
   "execution_count": 22,
   "id": "e219c7ad",
   "metadata": {},
   "outputs": [
    {
     "data": {
      "image/png": "[encoded data removed]",
      "text/plain": [
       "<Figure size 1296x576 with 1 Axes>"
      ]
     },
     "metadata": {},
     "output_type": "display_data"
    }
   ],
   "source": [
    "sns.color_palette('husl', 15)\n",
    "sns.set_theme()\n",
    "plt.figure(figsize=(18,8))\n",
    "plt.xlabel('Год продажи')\n",
    "plt.ylabel('Количество продаж в год')\n",
    "plt.title('Статистика продаж игр на разных платформах по годам')\n",
    "sns.lineplot(data=act_platform, x='year_of_release', y='total_sales', hue='platform', linewidth=5, marker = 'o');"
   ]
  },
  {
   "cell_type": "markdown",
   "id": "c87932d9",
   "metadata": {},
   "source": [
    "**Какие выводы можем сделать:**\n",
    "+ В период с 2013 по 2015 росли продажи только у двух платформ: PS4 и XOne. У всех остальных платформ они падали. Мы не будем смотреть на 2016 год, т.к. данные неполные, и возможно искажение.\n",
    "+ Соответственно, самые перспективные на 2017 год платформы — это **PS4 и XOne**."
   ]
  },
  {
   "cell_type": "markdown",
   "id": "126be816",
   "metadata": {},
   "source": [
    "## 3.4 Построим график «ящик с усами» по глобальным продажам игр в разбивке по платформам.\n",
    "Опишем результат."
   ]
  },
  {
   "cell_type": "code",
   "execution_count": 23,
   "id": "989503c9",
   "metadata": {},
   "outputs": [
    {
     "data": {
      "image/png": "[encoded data removed]",
      "text/plain": [
       "<Figure size 2160x648 with 1 Axes>"
      ]
     },
     "metadata": {},
     "output_type": "display_data"
    }
   ],
   "source": [
    "plt.figure(figsize=(30,9))\n",
    "sns.boxplot(y=\"platform\", x=\"total_sales\", data=act_platform, orient=\"h\");"
   ]
  },
  {
   "cell_type": "markdown",
   "id": "5e09c906",
   "metadata": {},
   "source": [
    "**Выводы:**\n",
    "+ Больше всего продаж — у PS4 и PS3 (119 и 111 млн. проданных копий соответственно). На третьем месте Xbox 360 — около 88 млн. проданных копий.\n",
    "+ Меньше всего продаж — у платформы DS, около 3 млн. проданных копий."
   ]
  },
  {
   "cell_type": "markdown",
   "id": "694ce7b7",
   "metadata": {},
   "source": [
    "## 3.5 Посмотрим, как влияют на продажи внутри одной популярной платформы отзывы пользователей и критиков.\n",
    "Построим диаграмму рассеяния и посчитаем корреляцию между отзывами и продажами. Сформулируем выводы."
   ]
  },
  {
   "cell_type": "markdown",
   "id": "51953180",
   "metadata": {},
   "source": [
    "Начнем с PS4 — у нее больше всего продаж. Посторим диаграмму рассеяния."
   ]
  },
  {
   "cell_type": "code",
   "execution_count": 24,
   "id": "4d2e4912",
   "metadata": {},
   "outputs": [
    {
     "name": "stderr",
     "output_type": "stream",
     "text": [
      "*c* argument looks like a single numeric RGB or RGBA sequence, which should be avoided as value-mapping will have precedence in case its length matches with *x* & *y*.  Please use the *color* keyword-argument or provide a 2D array with a single row if you intend to specify the same RGB or RGBA value for all points.\n"
     ]
    },
    {
     "data": {
      "text/plain": [
       "<AxesSubplot:xlabel='critic_score', ylabel='total_sales'>"
      ]
     },
     "execution_count": 24,
     "metadata": {},
     "output_type": "execute_result"
    },
    {
     "data": {
      "image/png": "[encoded data removed]",
      "text/plain": [
       "<Figure size 432x288 with 1 Axes>"
      ]
     },
     "metadata": {},
     "output_type": "display_data"
    }
   ],
   "source": [
    "df.query('platform==\"PS4\" and critic_score>0').plot(x='critic_score', y='total_sales', kind='scatter') "
   ]
  },
  {
   "cell_type": "markdown",
   "id": "764590dc",
   "metadata": {},
   "source": [
    "Теперь посчитаем корреляцию."
   ]
  },
  {
   "cell_type": "code",
   "execution_count": 25,
   "id": "a1003fef",
   "metadata": {},
   "outputs": [
    {
     "name": "stdout",
     "output_type": "stream",
     "text": [
      "0.40656790206178095\n"
     ]
    }
   ],
   "source": [
    "print(df.query('platform==\"PS4\" and critic_score>0')['critic_score'].corr(df.query('platform==\"PS4\" and critic_score>0')['total_sales']))"
   ]
  },
  {
   "cell_type": "markdown",
   "id": "cbcffe44",
   "metadata": {},
   "source": [
    "**Вывод:** Между оценками критиков и продажами  PS4 есть умеренная корреляция (корреляция равна 0,4). Чем выше оценка критиков, тем больше продажи."
   ]
  },
  {
   "cell_type": "code",
   "execution_count": 26,
   "id": "8a4ca96a",
   "metadata": {},
   "outputs": [
    {
     "name": "stderr",
     "output_type": "stream",
     "text": [
      "*c* argument looks like a single numeric RGB or RGBA sequence, which should be avoided as value-mapping will have precedence in case its length matches with *x* & *y*.  Please use the *color* keyword-argument or provide a 2D array with a single row if you intend to specify the same RGB or RGBA value for all points.\n"
     ]
    },
    {
     "data": {
      "text/plain": [
       "<AxesSubplot:xlabel='critic_score', ylabel='total_sales'>"
      ]
     },
     "execution_count": 26,
     "metadata": {},
     "output_type": "execute_result"
    },
    {
     "data": {
      "image/png": "[encoded data removed]",
      "text/plain": [
       "<Figure size 432x288 with 1 Axes>"
      ]
     },
     "metadata": {},
     "output_type": "display_data"
    }
   ],
   "source": [
    "df.query('platform==\"PS3\" and critic_score>0').plot(x='critic_score', y='total_sales', kind='scatter') "
   ]
  },
  {
   "cell_type": "code",
   "execution_count": 27,
   "id": "960d7370",
   "metadata": {},
   "outputs": [
    {
     "name": "stdout",
     "output_type": "stream",
     "text": [
      "0.3342853393371919\n"
     ]
    }
   ],
   "source": [
    "print(df.query('platform==\"PS3\" and critic_score>0')['critic_score'].corr(df.query('platform==\"PS3\" and critic_score>0')['total_sales']))"
   ]
  },
  {
   "cell_type": "code",
   "execution_count": 28,
   "id": "e89c6637",
   "metadata": {},
   "outputs": [
    {
     "name": "stderr",
     "output_type": "stream",
     "text": [
      "*c* argument looks like a single numeric RGB or RGBA sequence, which should be avoided as value-mapping will have precedence in case its length matches with *x* & *y*.  Please use the *color* keyword-argument or provide a 2D array with a single row if you intend to specify the same RGB or RGBA value for all points.\n"
     ]
    },
    {
     "data": {
      "text/plain": [
       "<AxesSubplot:xlabel='critic_score', ylabel='total_sales'>"
      ]
     },
     "execution_count": 28,
     "metadata": {},
     "output_type": "execute_result"
    },
    {
     "data": {
      "image/png": "[encoded data removed]",
      "text/plain": [
       "<Figure size 432x288 with 1 Axes>"
      ]
     },
     "metadata": {},
     "output_type": "display_data"
    }
   ],
   "source": [
    "df.query('platform==\"X360\" and critic_score>0').plot(x='critic_score', y='total_sales', kind='scatter') "
   ]
  },
  {
   "cell_type": "code",
   "execution_count": 29,
   "id": "9f4a24e4",
   "metadata": {},
   "outputs": [
    {
     "name": "stdout",
     "output_type": "stream",
     "text": [
      "0.3503445460228664\n"
     ]
    }
   ],
   "source": [
    "print(df.query('platform==\"X360\" and critic_score>0')['critic_score'].corr(df.query('platform==\"X360\" and critic_score>0')['total_sales']))"
   ]
  },
  {
   "cell_type": "markdown",
   "id": "2d6a0893",
   "metadata": {},
   "source": [
    "### Сравним корреляцию между оценкой критиков и продажами игр у трех самых популярных платформ:\n",
    "+ PS4 — 0.4\n",
    "+ PS3 — 0.33\n",
    "+ Xbox One —0.35.  \n",
    "\n",
    "**Это означает, что между оценками критиков и продажами игр есть умеренная корреляция**"
   ]
  },
  {
   "cell_type": "markdown",
   "id": "af1b0edf",
   "metadata": {},
   "source": [
    ">|**Вывод:** Между оценками критиков и продажами игр есть умеренная корреляция (корреляция не больше 0,4). \n",
    "Так что оценки критиков имеют влияние на продажи, но не сильное."
   ]
  },
  {
   "cell_type": "markdown",
   "id": "7cfd952e",
   "metadata": {},
   "source": [
    "## 3.6 Посмотрим на общее распределение игр по жанрам.\n",
    "Что можно сказать о самых прибыльных жанрах? Выделяются ли жанры с высокими и низкими продажами? Посмотрим на графике."
   ]
  },
  {
   "cell_type": "code",
   "execution_count": 30,
   "id": "03459a8e",
   "metadata": {},
   "outputs": [
    {
     "data": {
      "text/plain": [
       "(0.0, 4.0)"
      ]
     },
     "execution_count": 30,
     "metadata": {},
     "output_type": "execute_result"
    },
    {
     "data": {
      "text/plain": [
       "<Figure size 720x360 with 0 Axes>"
      ]
     },
     "metadata": {},
     "output_type": "display_data"
    },
    {
     "data": {
      "image/png": "[encoded data removed]",
      "text/plain": [
       "<Figure size 1133.86x566.929 with 1 Axes>"
      ]
     },
     "metadata": {},
     "output_type": "display_data"
    }
   ],
   "source": [
    "def cm_to_inch(value):\n",
    "    return value/2.54\n",
    "\n",
    "plt.figure(figsize=(10,5))\n",
    "plt.figure(figsize=(cm_to_inch(40),cm_to_inch(20)))\n",
    "sns.boxplot(y=\"genre\", x=\"total_sales\", data=df, orient=\"h\");\n",
    "plt.xlim(0, 4) "
   ]
  },
  {
   "cell_type": "markdown",
   "id": "59f9a21b",
   "metadata": {},
   "source": [
    "**Вывод:** самые прибыльные жанры — это shooter и sports. Самые низкие продажи — у жанров adventure и puzzle. "
   ]
  },
  {
   "cell_type": "markdown",
   "id": "181b59cd",
   "metadata": {},
   "source": [
    "### Выводы по шагу 3\n",
    "Мы провели исследовательский анализ данных и узнали:\n",
    "+ Больше всего игр выпускалось в 2009 и 2010 годах. Могу предположить, что можно отбросить данные с играми, выпущенными ранее 1995 года, т.к. именно с 1995 начался рост в гейм-индустрии. Может быть, это из-за того что вышла Windows 95 и у разработчиков стало больше возможностей. А в 2012 по 2015 был спад.\n",
    "+ В среднем игровая платформа «живет» 10 лет, пока не появятся более новые модели.\n",
    "+ В период с 2013 по 2015 росли продажи только у двух платформ: PS4 и XOne. У всех остальных платформ они падали. Мы не будем смотреть на 2016 год, т.к. данные неполные, и возможно искажение.Соответственно, самые перспективные на 2017 год платформы — это PS4 и XOne.\n",
    "+ Больше всего продаж в актуальном периоде (с 2013 по 2016) — у PS4 и PS3 (119 и 111 млн. проданных копий соответственно). На третьем месте Xbox 360 — около 88 млн. проданных копий. Меньше всего продаж — у платформы DS, около 3 млн. проданных копий.\n",
    "+ Между оценками критиков и продажами игр есть умеренная корреляция. Так что оценки критиков имеют влияние на продажи, но не сильное.\n",
    "+ Самые прибыльные жанры — это shooter и sports. Самые низкие продажи — у жанров adventure и puzzle."
   ]
  },
  {
   "cell_type": "markdown",
   "id": "6e31cc33",
   "metadata": {},
   "source": [
    "# Шаг 4. Составим портрет пользователя каждого региона."
   ]
  },
  {
   "cell_type": "markdown",
   "id": "58b0fb6d",
   "metadata": {},
   "source": [
    "Определим для пользователя каждого региона (NA, EU, JP):\n",
    "+ Самые популярные платформы (топ-5). Опишем различия в долях продаж.\n",
    "+ Самые популярные жанры (топ-5). Поясним разницу.\n",
    "+ Влияет ли рейтинг ESRB на продажи в отдельном регионе?"
   ]
  },
  {
   "cell_type": "markdown",
   "id": "043d1e2c",
   "metadata": {},
   "source": [
    ">Начнем с Северной Америки."
   ]
  },
  {
   "cell_type": "code",
   "execution_count": 31,
   "id": "a5f66a66",
   "metadata": {},
   "outputs": [
    {
     "data": {
      "text/html": [
       "<div>\n",
       "<style scoped>\n",
       "    .dataframe tbody tr th:only-of-type {\n",
       "        vertical-align: middle;\n",
       "    }\n",
       "\n",
       "    .dataframe tbody tr th {\n",
       "        vertical-align: top;\n",
       "    }\n",
       "\n",
       "    .dataframe thead th {\n",
       "        text-align: right;\n",
       "    }\n",
       "</style>\n",
       "<table border=\"1\" class=\"dataframe\">\n",
       "  <thead>\n",
       "    <tr style=\"text-align: right;\">\n",
       "      <th></th>\n",
       "      <th>platform</th>\n",
       "      <th>na_sales</th>\n",
       "    </tr>\n",
       "  </thead>\n",
       "  <tbody>\n",
       "    <tr>\n",
       "      <th>4</th>\n",
       "      <td>PS4</td>\n",
       "      <td>108.74</td>\n",
       "    </tr>\n",
       "    <tr>\n",
       "      <th>10</th>\n",
       "      <td>XOne</td>\n",
       "      <td>93.12</td>\n",
       "    </tr>\n",
       "    <tr>\n",
       "      <th>9</th>\n",
       "      <td>X360</td>\n",
       "      <td>81.66</td>\n",
       "    </tr>\n",
       "    <tr>\n",
       "      <th>3</th>\n",
       "      <td>PS3</td>\n",
       "      <td>63.50</td>\n",
       "    </tr>\n",
       "    <tr>\n",
       "      <th>0</th>\n",
       "      <td>3DS</td>\n",
       "      <td>38.20</td>\n",
       "    </tr>\n",
       "  </tbody>\n",
       "</table>\n",
       "</div>"
      ],
      "text/plain": [
       "   platform  na_sales\n",
       "4       PS4    108.74\n",
       "10     XOne     93.12\n",
       "9      X360     81.66\n",
       "3       PS3     63.50\n",
       "0       3DS     38.20"
      ]
     },
     "execution_count": 31,
     "metadata": {},
     "output_type": "execute_result"
    }
   ],
   "source": [
    "# самая популярная платофрма\n",
    "na_top = df.pivot_table(index=['platform'],\n",
    "values='na_sales', aggfunc='sum').reset_index()\n",
    "na_top.sort_values(by='na_sales', ascending=False).head(5)"
   ]
  },
  {
   "cell_type": "code",
   "execution_count": 32,
   "id": "c3c5e868",
   "metadata": {},
   "outputs": [
    {
     "data": {
      "text/html": [
       "<div>\n",
       "<style scoped>\n",
       "    .dataframe tbody tr th:only-of-type {\n",
       "        vertical-align: middle;\n",
       "    }\n",
       "\n",
       "    .dataframe tbody tr th {\n",
       "        vertical-align: top;\n",
       "    }\n",
       "\n",
       "    .dataframe thead th {\n",
       "        text-align: right;\n",
       "    }\n",
       "</style>\n",
       "<table border=\"1\" class=\"dataframe\">\n",
       "  <thead>\n",
       "    <tr style=\"text-align: right;\">\n",
       "      <th></th>\n",
       "      <th>genre</th>\n",
       "      <th>na_sales</th>\n",
       "    </tr>\n",
       "  </thead>\n",
       "  <tbody>\n",
       "    <tr>\n",
       "      <th>0</th>\n",
       "      <td>Action</td>\n",
       "      <td>126.05</td>\n",
       "    </tr>\n",
       "    <tr>\n",
       "      <th>8</th>\n",
       "      <td>Shooter</td>\n",
       "      <td>109.74</td>\n",
       "    </tr>\n",
       "    <tr>\n",
       "      <th>10</th>\n",
       "      <td>Sports</td>\n",
       "      <td>65.27</td>\n",
       "    </tr>\n",
       "    <tr>\n",
       "      <th>7</th>\n",
       "      <td>Role-Playing</td>\n",
       "      <td>46.40</td>\n",
       "    </tr>\n",
       "    <tr>\n",
       "      <th>3</th>\n",
       "      <td>Misc</td>\n",
       "      <td>27.49</td>\n",
       "    </tr>\n",
       "  </tbody>\n",
       "</table>\n",
       "</div>"
      ],
      "text/plain": [
       "           genre  na_sales\n",
       "0         Action    126.05\n",
       "8        Shooter    109.74\n",
       "10        Sports     65.27\n",
       "7   Role-Playing     46.40\n",
       "3           Misc     27.49"
      ]
     },
     "execution_count": 32,
     "metadata": {},
     "output_type": "execute_result"
    }
   ],
   "source": [
    "#самый популярный жанр\n",
    "na_genre = df.pivot_table(index=['genre'],\n",
    "values='na_sales', aggfunc='sum').reset_index()\n",
    "na_genre.sort_values(by='na_sales', ascending=False).head(5)"
   ]
  },
  {
   "cell_type": "code",
   "execution_count": 33,
   "id": "ba275de3",
   "metadata": {},
   "outputs": [
    {
     "data": {
      "text/html": [
       "<div>\n",
       "<style scoped>\n",
       "    .dataframe tbody tr th:only-of-type {\n",
       "        vertical-align: middle;\n",
       "    }\n",
       "\n",
       "    .dataframe tbody tr th {\n",
       "        vertical-align: top;\n",
       "    }\n",
       "\n",
       "    .dataframe thead th {\n",
       "        text-align: right;\n",
       "    }\n",
       "</style>\n",
       "<table border=\"1\" class=\"dataframe\">\n",
       "  <thead>\n",
       "    <tr style=\"text-align: right;\">\n",
       "      <th></th>\n",
       "      <th>rating</th>\n",
       "      <th>na_sales</th>\n",
       "    </tr>\n",
       "  </thead>\n",
       "  <tbody>\n",
       "    <tr>\n",
       "      <th>2</th>\n",
       "      <td>M</td>\n",
       "      <td>165.21</td>\n",
       "    </tr>\n",
       "    <tr>\n",
       "      <th>4</th>\n",
       "      <td>неизвестно</td>\n",
       "      <td>89.42</td>\n",
       "    </tr>\n",
       "    <tr>\n",
       "      <th>0</th>\n",
       "      <td>E</td>\n",
       "      <td>79.05</td>\n",
       "    </tr>\n",
       "    <tr>\n",
       "      <th>1</th>\n",
       "      <td>E10+</td>\n",
       "      <td>54.24</td>\n",
       "    </tr>\n",
       "    <tr>\n",
       "      <th>3</th>\n",
       "      <td>T</td>\n",
       "      <td>49.79</td>\n",
       "    </tr>\n",
       "  </tbody>\n",
       "</table>\n",
       "</div>"
      ],
      "text/plain": [
       "       rating  na_sales\n",
       "2           M    165.21\n",
       "4  неизвестно     89.42\n",
       "0           E     79.05\n",
       "1        E10+     54.24\n",
       "3           T     49.79"
      ]
     },
     "execution_count": 33,
     "metadata": {},
     "output_type": "execute_result"
    }
   ],
   "source": [
    "#влияет ли рейтинг на продажи\n",
    "na_score = df.pivot_table(index=['rating'],\n",
    "values='na_sales', aggfunc='sum').reset_index()\n",
    "na_score.sort_values(by='na_sales', ascending=False).head()"
   ]
  },
  {
   "cell_type": "markdown",
   "id": "7a47a099",
   "metadata": {},
   "source": [
    "**Портрет пользователя Северной Америки:**\n",
    "+ Самые популярные платформы — PS4,XOne,X360. Разница между ними не очень большая — 10-15 млн. проданных копий.\n",
    "+ Самые популярные жанры — Action, Shooter, Sports. Причем продажи игр в жанре «спорт» почти в два раза меньше, чем продажи игр в жанре «шутер».\n",
    "+ Рейтинг влияет на продажи игр: если у игры рейтинг М (Материалы игры не подходят для подростков младше 17 лет. Проекты с данным рейтингом могут содержать достаточно жестокое насилие, большое количество крови с расчленением, непристойные сексуальные сцены или грубую ненормативную лексику, нежелательную для младшей аудитории.), то больше вероятность, что ее купят. Почти в два раза менььше продается игр с рейтингом Е (Содержание вполне подходит для возрастной категории от 6 лет. Такие игры могут понравиться и взрослым. Игры с этим рейтингом могут содержать минимальное насилие, в основном «мультяшного» характера.) Меньше всего продается игр с рейтингом Т (Игра подходит для лиц от 13 лет. Проекты из данной категории могут содержать насилие, непристойные сцены, грубый юмор, в меру откровенное сексуальное содержимое, кровь или нечастое использование ненормативной лексики.) Могу предположить, что подростки играют либо в игры с рейтингом М, либо в игры с рейтингом Е."
   ]
  },
  {
   "cell_type": "markdown",
   "id": "db8dcabb",
   "metadata": {},
   "source": [
    ">Теперь составим портрет европейского пользователя."
   ]
  },
  {
   "cell_type": "code",
   "execution_count": 34,
   "id": "67a05c26",
   "metadata": {},
   "outputs": [
    {
     "data": {
      "text/html": [
       "<div>\n",
       "<style scoped>\n",
       "    .dataframe tbody tr th:only-of-type {\n",
       "        vertical-align: middle;\n",
       "    }\n",
       "\n",
       "    .dataframe tbody tr th {\n",
       "        vertical-align: top;\n",
       "    }\n",
       "\n",
       "    .dataframe thead th {\n",
       "        text-align: right;\n",
       "    }\n",
       "</style>\n",
       "<table border=\"1\" class=\"dataframe\">\n",
       "  <thead>\n",
       "    <tr style=\"text-align: right;\">\n",
       "      <th></th>\n",
       "      <th>platform</th>\n",
       "      <th>eu_sales</th>\n",
       "    </tr>\n",
       "  </thead>\n",
       "  <tbody>\n",
       "    <tr>\n",
       "      <th>4</th>\n",
       "      <td>PS4</td>\n",
       "      <td>141.09</td>\n",
       "    </tr>\n",
       "    <tr>\n",
       "      <th>3</th>\n",
       "      <td>PS3</td>\n",
       "      <td>67.81</td>\n",
       "    </tr>\n",
       "    <tr>\n",
       "      <th>10</th>\n",
       "      <td>XOne</td>\n",
       "      <td>51.59</td>\n",
       "    </tr>\n",
       "    <tr>\n",
       "      <th>9</th>\n",
       "      <td>X360</td>\n",
       "      <td>42.52</td>\n",
       "    </tr>\n",
       "    <tr>\n",
       "      <th>0</th>\n",
       "      <td>3DS</td>\n",
       "      <td>30.96</td>\n",
       "    </tr>\n",
       "  </tbody>\n",
       "</table>\n",
       "</div>"
      ],
      "text/plain": [
       "   platform  eu_sales\n",
       "4       PS4    141.09\n",
       "3       PS3     67.81\n",
       "10     XOne     51.59\n",
       "9      X360     42.52\n",
       "0       3DS     30.96"
      ]
     },
     "execution_count": 34,
     "metadata": {},
     "output_type": "execute_result"
    }
   ],
   "source": [
    "# самая популярная платофрма\n",
    "eu_top = df.pivot_table(index=['platform'],\n",
    "values='eu_sales', aggfunc='sum').reset_index()\n",
    "eu_top.sort_values(by='eu_sales', ascending=False).head(5)"
   ]
  },
  {
   "cell_type": "code",
   "execution_count": 35,
   "id": "89e02bfa",
   "metadata": {},
   "outputs": [
    {
     "data": {
      "text/html": [
       "<div>\n",
       "<style scoped>\n",
       "    .dataframe tbody tr th:only-of-type {\n",
       "        vertical-align: middle;\n",
       "    }\n",
       "\n",
       "    .dataframe tbody tr th {\n",
       "        vertical-align: top;\n",
       "    }\n",
       "\n",
       "    .dataframe thead th {\n",
       "        text-align: right;\n",
       "    }\n",
       "</style>\n",
       "<table border=\"1\" class=\"dataframe\">\n",
       "  <thead>\n",
       "    <tr style=\"text-align: right;\">\n",
       "      <th></th>\n",
       "      <th>genre</th>\n",
       "      <th>eu_sales</th>\n",
       "    </tr>\n",
       "  </thead>\n",
       "  <tbody>\n",
       "    <tr>\n",
       "      <th>0</th>\n",
       "      <td>Action</td>\n",
       "      <td>118.13</td>\n",
       "    </tr>\n",
       "    <tr>\n",
       "      <th>8</th>\n",
       "      <td>Shooter</td>\n",
       "      <td>87.86</td>\n",
       "    </tr>\n",
       "    <tr>\n",
       "      <th>10</th>\n",
       "      <td>Sports</td>\n",
       "      <td>60.52</td>\n",
       "    </tr>\n",
       "    <tr>\n",
       "      <th>7</th>\n",
       "      <td>Role-Playing</td>\n",
       "      <td>36.97</td>\n",
       "    </tr>\n",
       "    <tr>\n",
       "      <th>6</th>\n",
       "      <td>Racing</td>\n",
       "      <td>20.19</td>\n",
       "    </tr>\n",
       "  </tbody>\n",
       "</table>\n",
       "</div>"
      ],
      "text/plain": [
       "           genre  eu_sales\n",
       "0         Action    118.13\n",
       "8        Shooter     87.86\n",
       "10        Sports     60.52\n",
       "7   Role-Playing     36.97\n",
       "6         Racing     20.19"
      ]
     },
     "execution_count": 35,
     "metadata": {},
     "output_type": "execute_result"
    }
   ],
   "source": [
    "#самый популярный жанр\n",
    "eu_genre = df.pivot_table(index=['genre'],\n",
    "values='eu_sales', aggfunc='sum').reset_index()\n",
    "eu_genre.sort_values(by='eu_sales', ascending=False).head(5)"
   ]
  },
  {
   "cell_type": "code",
   "execution_count": 36,
   "id": "98e456c4",
   "metadata": {},
   "outputs": [
    {
     "data": {
      "text/html": [
       "<div>\n",
       "<style scoped>\n",
       "    .dataframe tbody tr th:only-of-type {\n",
       "        vertical-align: middle;\n",
       "    }\n",
       "\n",
       "    .dataframe tbody tr th {\n",
       "        vertical-align: top;\n",
       "    }\n",
       "\n",
       "    .dataframe thead th {\n",
       "        text-align: right;\n",
       "    }\n",
       "</style>\n",
       "<table border=\"1\" class=\"dataframe\">\n",
       "  <thead>\n",
       "    <tr style=\"text-align: right;\">\n",
       "      <th></th>\n",
       "      <th>rating</th>\n",
       "      <th>eu_sales</th>\n",
       "    </tr>\n",
       "  </thead>\n",
       "  <tbody>\n",
       "    <tr>\n",
       "      <th>2</th>\n",
       "      <td>M</td>\n",
       "      <td>145.32</td>\n",
       "    </tr>\n",
       "    <tr>\n",
       "      <th>0</th>\n",
       "      <td>E</td>\n",
       "      <td>83.36</td>\n",
       "    </tr>\n",
       "    <tr>\n",
       "      <th>4</th>\n",
       "      <td>неизвестно</td>\n",
       "      <td>78.91</td>\n",
       "    </tr>\n",
       "    <tr>\n",
       "      <th>1</th>\n",
       "      <td>E10+</td>\n",
       "      <td>42.69</td>\n",
       "    </tr>\n",
       "    <tr>\n",
       "      <th>3</th>\n",
       "      <td>T</td>\n",
       "      <td>41.95</td>\n",
       "    </tr>\n",
       "  </tbody>\n",
       "</table>\n",
       "</div>"
      ],
      "text/plain": [
       "       rating  eu_sales\n",
       "2           M    145.32\n",
       "0           E     83.36\n",
       "4  неизвестно     78.91\n",
       "1        E10+     42.69\n",
       "3           T     41.95"
      ]
     },
     "execution_count": 36,
     "metadata": {},
     "output_type": "execute_result"
    }
   ],
   "source": [
    "#влияет ли рейтинг на продажи\n",
    "eu_score = df.pivot_table(index=['rating'],\n",
    "values='eu_sales', aggfunc='sum').reset_index()\n",
    "eu_score.sort_values(by='eu_sales', ascending=False).head()"
   ]
  },
  {
   "cell_type": "markdown",
   "id": "5a46d234",
   "metadata": {},
   "source": [
    "**Портрет пользователя из Европы:**\n",
    "+ Самые популярные платформы — PS4 и PS3, при этом PS4 продано почти в два раза больше.\n",
    "+ Самые популярные жанры —  Action, Shooter, Sports. Так же, как и в Северной Америке.\n",
    "+ Больше всего продается игр с рейтингом М. Следом за ними — игры с рейтингом Е. Игры для тинейджеров (рейтинг Т) имеют самые низкие продажи."
   ]
  },
  {
   "cell_type": "markdown",
   "id": "a58e3b3b",
   "metadata": {},
   "source": [
    ">Теперь составим портрет пользователя из Японии."
   ]
  },
  {
   "cell_type": "code",
   "execution_count": 37,
   "id": "4ecc154a",
   "metadata": {},
   "outputs": [
    {
     "data": {
      "text/html": [
       "<div>\n",
       "<style scoped>\n",
       "    .dataframe tbody tr th:only-of-type {\n",
       "        vertical-align: middle;\n",
       "    }\n",
       "\n",
       "    .dataframe tbody tr th {\n",
       "        vertical-align: top;\n",
       "    }\n",
       "\n",
       "    .dataframe thead th {\n",
       "        text-align: right;\n",
       "    }\n",
       "</style>\n",
       "<table border=\"1\" class=\"dataframe\">\n",
       "  <thead>\n",
       "    <tr style=\"text-align: right;\">\n",
       "      <th></th>\n",
       "      <th>platform</th>\n",
       "      <th>jp_sales</th>\n",
       "    </tr>\n",
       "  </thead>\n",
       "  <tbody>\n",
       "    <tr>\n",
       "      <th>0</th>\n",
       "      <td>3DS</td>\n",
       "      <td>67.81</td>\n",
       "    </tr>\n",
       "    <tr>\n",
       "      <th>3</th>\n",
       "      <td>PS3</td>\n",
       "      <td>23.35</td>\n",
       "    </tr>\n",
       "    <tr>\n",
       "      <th>6</th>\n",
       "      <td>PSV</td>\n",
       "      <td>18.59</td>\n",
       "    </tr>\n",
       "    <tr>\n",
       "      <th>4</th>\n",
       "      <td>PS4</td>\n",
       "      <td>15.96</td>\n",
       "    </tr>\n",
       "    <tr>\n",
       "      <th>8</th>\n",
       "      <td>WiiU</td>\n",
       "      <td>10.88</td>\n",
       "    </tr>\n",
       "  </tbody>\n",
       "</table>\n",
       "</div>"
      ],
      "text/plain": [
       "  platform  jp_sales\n",
       "0      3DS     67.81\n",
       "3      PS3     23.35\n",
       "6      PSV     18.59\n",
       "4      PS4     15.96\n",
       "8     WiiU     10.88"
      ]
     },
     "execution_count": 37,
     "metadata": {},
     "output_type": "execute_result"
    }
   ],
   "source": [
    "# самая популярная платофрма\n",
    "jp_top = df.pivot_table(index=['platform'],\n",
    "values='jp_sales', aggfunc='sum').reset_index()\n",
    "jp_top.sort_values(by='jp_sales', ascending=False).head(5)"
   ]
  },
  {
   "cell_type": "code",
   "execution_count": 38,
   "id": "bd0bd9ca",
   "metadata": {},
   "outputs": [
    {
     "data": {
      "text/html": [
       "<div>\n",
       "<style scoped>\n",
       "    .dataframe tbody tr th:only-of-type {\n",
       "        vertical-align: middle;\n",
       "    }\n",
       "\n",
       "    .dataframe tbody tr th {\n",
       "        vertical-align: top;\n",
       "    }\n",
       "\n",
       "    .dataframe thead th {\n",
       "        text-align: right;\n",
       "    }\n",
       "</style>\n",
       "<table border=\"1\" class=\"dataframe\">\n",
       "  <thead>\n",
       "    <tr style=\"text-align: right;\">\n",
       "      <th></th>\n",
       "      <th>genre</th>\n",
       "      <th>jp_sales</th>\n",
       "    </tr>\n",
       "  </thead>\n",
       "  <tbody>\n",
       "    <tr>\n",
       "      <th>7</th>\n",
       "      <td>Role-Playing</td>\n",
       "      <td>51.04</td>\n",
       "    </tr>\n",
       "    <tr>\n",
       "      <th>0</th>\n",
       "      <td>Action</td>\n",
       "      <td>40.49</td>\n",
       "    </tr>\n",
       "    <tr>\n",
       "      <th>3</th>\n",
       "      <td>Misc</td>\n",
       "      <td>9.20</td>\n",
       "    </tr>\n",
       "    <tr>\n",
       "      <th>2</th>\n",
       "      <td>Fighting</td>\n",
       "      <td>7.65</td>\n",
       "    </tr>\n",
       "    <tr>\n",
       "      <th>8</th>\n",
       "      <td>Shooter</td>\n",
       "      <td>6.61</td>\n",
       "    </tr>\n",
       "  </tbody>\n",
       "</table>\n",
       "</div>"
      ],
      "text/plain": [
       "          genre  jp_sales\n",
       "7  Role-Playing     51.04\n",
       "0        Action     40.49\n",
       "3          Misc      9.20\n",
       "2      Fighting      7.65\n",
       "8       Shooter      6.61"
      ]
     },
     "execution_count": 38,
     "metadata": {},
     "output_type": "execute_result"
    }
   ],
   "source": [
    "#самый популярный жанр\n",
    "jp_genre = df.pivot_table(index=['genre'],\n",
    "values='jp_sales', aggfunc='sum').reset_index()\n",
    "jp_genre.sort_values(by='jp_sales', ascending=False).head(5)"
   ]
  },
  {
   "cell_type": "code",
   "execution_count": 39,
   "id": "ac7f8fce",
   "metadata": {},
   "outputs": [
    {
     "data": {
      "text/html": [
       "<div>\n",
       "<style scoped>\n",
       "    .dataframe tbody tr th:only-of-type {\n",
       "        vertical-align: middle;\n",
       "    }\n",
       "\n",
       "    .dataframe tbody tr th {\n",
       "        vertical-align: top;\n",
       "    }\n",
       "\n",
       "    .dataframe thead th {\n",
       "        text-align: right;\n",
       "    }\n",
       "</style>\n",
       "<table border=\"1\" class=\"dataframe\">\n",
       "  <thead>\n",
       "    <tr style=\"text-align: right;\">\n",
       "      <th></th>\n",
       "      <th>rating</th>\n",
       "      <th>jp_sales</th>\n",
       "    </tr>\n",
       "  </thead>\n",
       "  <tbody>\n",
       "    <tr>\n",
       "      <th>4</th>\n",
       "      <td>неизвестно</td>\n",
       "      <td>85.05</td>\n",
       "    </tr>\n",
       "    <tr>\n",
       "      <th>3</th>\n",
       "      <td>T</td>\n",
       "      <td>20.59</td>\n",
       "    </tr>\n",
       "    <tr>\n",
       "      <th>0</th>\n",
       "      <td>E</td>\n",
       "      <td>15.14</td>\n",
       "    </tr>\n",
       "    <tr>\n",
       "      <th>2</th>\n",
       "      <td>M</td>\n",
       "      <td>14.11</td>\n",
       "    </tr>\n",
       "    <tr>\n",
       "      <th>1</th>\n",
       "      <td>E10+</td>\n",
       "      <td>5.89</td>\n",
       "    </tr>\n",
       "  </tbody>\n",
       "</table>\n",
       "</div>"
      ],
      "text/plain": [
       "       rating  jp_sales\n",
       "4  неизвестно     85.05\n",
       "3           T     20.59\n",
       "0           E     15.14\n",
       "2           M     14.11\n",
       "1        E10+      5.89"
      ]
     },
     "execution_count": 39,
     "metadata": {},
     "output_type": "execute_result"
    }
   ],
   "source": [
    "#влияет ли рейтинг на продажи\n",
    "jp_score = df.pivot_table(index=['rating'],\n",
    "values='jp_sales', aggfunc='sum').reset_index()\n",
    "jp_score.sort_values(by='jp_sales', ascending=False).head()"
   ]
  },
  {
   "cell_type": "markdown",
   "id": "aaad1b40",
   "metadata": {},
   "source": [
    "**Портрет пользователя из Японии:**\n",
    "+ самые популярные платформы — 3DS, PS3 и PSV. При этом у платформы 3DS почти в три раза больше продаж, чем у PS3. В Японии любят Нинтендо.\n",
    "+ самые популярные жанры Role-Playing, Action и Misc(аркады). При этом между экшеном и аркадами огромный разрыв — почти в 4,5 раза меньше продаж. Шутеры в Японии на удивление непопулярны.\n",
    "+ А вот с рейтингом сложно что-то сказать. Т.к. у 85 млн. копий игр рейтинг не определен. Это связяно с тем, что в Японии своя рейтинговая система. Далее по популярности — игры для подростков (рейтинг Т) и для всех (рейтинг Е)."
   ]
  },
  {
   "cell_type": "markdown",
   "id": "fbe28ce9",
   "metadata": {},
   "source": [
    "## Выводы для шага 4. \n",
    "Мы составили портрет пользователя каждого региона:\n",
    "### Портрет пользователя Северной Америки:\n",
    "\n",
    "+ Самые популярные платформы — PS4,XOne,X360. Разница между ними не очень большая — 10-15 млн. проданных копий.\n",
    "+ Самые популярные жанры — Action, Shooter, Sports. Причем продажи игр в жанре «спорт» почти в два раза меньше, чем продажи игр в жанре «шутер».\n",
    "+ Рейтинг влияет на продажи игр: если у игры рейтинг М (Материалы игры не подходят для подростков младше 17 лет. Проекты с данным рейтингом могут содержать достаточно жестокое насилие, большое количество крови с расчленением, непристойные сексуальные сцены или грубую ненормативную лексику, нежелательную для младшей аудитории.), то больше вероятность, что ее купят. Почти в два раза менььше продается игр с рейтингом Е (Содержание вполне подходит для возрастной категории от 6 лет. Такие игры могут понравиться и взрослым. Игры с этим рейтингом могут содержать минимальное насилие, в основном «мультяшного» характера.) Меньше всего продается игр с рейтингом Т (Игра подходит для лиц от 13 лет. Проекты из данной категории могут содержать насилие, непристойные сцены, грубый юмор, в меру откровенное сексуальное содержимое, кровь или нечастое использование ненормативной лексики.) Могу предположить, что подростки играют либо в игры с рейтингом М, либо в игры с рейтингом Е.\n",
    "\n",
    "### Портрет пользователя из Европы:\n",
    "+ Самые популярные платформы — PS4 и PS3, при этом PS4 продано почти в два раза больше.\n",
    "+ Самые популярные жанры — Action, Shooter, Sports. Так же, как и в Северной Америке.\n",
    "+ Больше всего продается игр с рейтингом М. Следом за ними — игры с рейтингом Е. Игры для тинейджеров (рейтинг Т) имеют самые низкие продажи.\n",
    "\n",
    "### Портрет пользователя из Японии:\n",
    "+ самые популярные платформы — 3DS, PS3 и PSV. При этом у платформы 3DS почти в три раза больше продаж, чем у PS3. В Японии любят Нинтендо.\n",
    "+ самые популярные жанры Role-Playing, Action и Misc(аркады). При этом между экшеном и аркадами огромный разрыв — почти в 4,5 раза меньше продаж. Шутеры в Японии на удивление непопулярны.\n",
    "+ А вот с рейтингом сложно что-то сказать. Т.к. у 85 млн. копий игр рейтинг не определен. Это связяно с тем, что в Японии своя рейтинговая система. Далее по популярности — игры для подростков (рейтинг Т) и для всех (рейтинг Е)."
   ]
  },
  {
   "cell_type": "markdown",
   "id": "229f49ca",
   "metadata": {},
   "source": [
    "# Шаг 5. Проверяем гипотезы.\n",
    "+ Средние пользовательские рейтинги платформ Xbox One и PC одинаковые;\n",
    "+ Средние пользовательские рейтинги жанров Action (англ. «действие», экшен-игры) и Sports (англ. «спортивные соревнования») разные.  \n",
    "\n",
    "alpha = 0.05.  "
   ]
  },
  {
   "cell_type": "code",
   "execution_count": 40,
   "id": "6b48802c",
   "metadata": {},
   "outputs": [],
   "source": [
    "df = df.query('user_score>0')"
   ]
  },
  {
   "cell_type": "markdown",
   "id": "d0555d45",
   "metadata": {},
   "source": [
    "Первая нулевая гипотеза: **«Средние пользовательские рейтинги платформ Xbox One и PC равны».**  \n",
    "\n",
    "Альтернативная гипотеза: **«Средние пользовательские рейтинги платформ Xbox One и PC НЕ равны».**\n",
    "  \n",
    "Гипотезы делаем двусторонними, потому что отклонение может быть и в большую, и в меньшую сторону.\n",
    "\n",
    "Используем t-тест, т.к. выборки не зависят друг от друга.\n",
    "\n",
    "Дисперсии отличаются, но мы укажем что equal_var = False и все."
   ]
  },
  {
   "cell_type": "code",
   "execution_count": 41,
   "id": "972e28c9",
   "metadata": {},
   "outputs": [],
   "source": [
    "df=df.query('user_score!= -1')"
   ]
  },
  {
   "cell_type": "code",
   "execution_count": 42,
   "id": "1d78e893",
   "metadata": {},
   "outputs": [
    {
     "name": "stdout",
     "output_type": "stream",
     "text": [
      "p-значение: 0.14012658403611647\n",
      "Не получилось отвергнуть нулевую гипотезу\n"
     ]
    }
   ],
   "source": [
    "sample_1 = df[df['platform'] == 'XOne']['user_score']\n",
    "sample_2 = df[df['platform'] == 'PC']['user_score']\n",
    "\n",
    "alpha = .05 # критический уровень статистической значимости\n",
    "# если p-value окажется меньше него - отвергнем гипотезу\n",
    "\n",
    "equal_var = False\n",
    "\n",
    "results = st.ttest_ind(\n",
    "    sample_1, \n",
    "    sample_2)\n",
    "\n",
    "print('p-значение:', results.pvalue)\n",
    "\n",
    "if results.pvalue < alpha:\n",
    "    print(\"Отвергаем нулевую гипотезу\")\n",
    "else:\n",
    "    print(\"Не получилось отвергнуть нулевую гипотезу\") "
   ]
  },
  {
   "cell_type": "markdown",
   "id": "263ef165",
   "metadata": {},
   "source": [
    "Вторая нулевая гипотеза: **Средние пользовательские рейтинги жанров Action (англ. «действие», экшен-игры) и Sports (англ. «спортивные соревнования») равны.**\n",
    "\n",
    "Вторая альтернативная гипотеза: **Средние пользовательские рейтинги жанров Action (англ. «действие», экшен-игры) и Sports (англ. «спортивные соревнования») НЕ равны.**"
   ]
  },
  {
   "cell_type": "code",
   "execution_count": 44,
   "id": "cda43b9d",
   "metadata": {},
   "outputs": [
    {
     "name": "stdout",
     "output_type": "stream",
     "text": [
      "p-значение: 1.0517832389140023e-27\n",
      "Отвергаем нулевую гипотезу\n"
     ]
    }
   ],
   "source": [
    "sample_1 = df[df['genre'] == 'Action']['user_score']\n",
    "sample_2 = df[df['genre'] == 'Sports']['user_score']\n",
    "\n",
    "alpha = .05 # критический уровень статистической значимости\n",
    "# если p-value окажется меньше него - отвергнем гипотезу\n",
    "\n",
    "equal_var = False\n",
    "\n",
    "results = st.ttest_ind(\n",
    "    sample_1, \n",
    "    sample_2)\n",
    "\n",
    "print('p-значение:', results.pvalue)\n",
    "\n",
    "if results.pvalue < alpha:\n",
    "    print(\"Отвергаем нулевую гипотезу\")\n",
    "else:\n",
    "    print(\"Не получилось отвергнуть нулевую гипотезу\") "
   ]
  },
  {
   "cell_type": "markdown",
   "id": "1c869200",
   "metadata": {},
   "source": [
    "## Вывод:\n",
    "Мы составили нулевые и альтернативные гипотезы к следующим утверждениям:\n",
    "+ Средние пользовательские рейтинги платформ Xbox One и PC одинаковые;\n",
    "+ Средние пользовательские рейтинги жанров Action (англ. «действие», экшен-игры) и Sports (англ. «спортивные соревнования») разные.  \n",
    "По итогам проверки у нас не получилось отвергнуть первую нулевую гипотезу. Посколько других данных у нас нет, мы можем предположить, что первая нулевая гипотеза верна. Средние пользовательские рейтинги платформ Xbox One и PC равны.  \n",
    "\n",
    "По итогам проверки мы отвергли вторую нулевую гипотезу. А это значит, что Средние пользовательские рейтинги жанров Action (англ. «действие», экшен-игры) и Sports (англ. «спортивные соревнования») НЕ равны."
   ]
  },
  {
   "cell_type": "markdown",
   "id": "225ac9c1",
   "metadata": {},
   "source": [
    "# Шаг 6. Общий вывод.\n",
    "Мы изучили данные компании-продавца компьютерных игр.\n",
    "### 1. **Открыли таблицу и узнали**, что в датасете более 16 тысяч строк, в некоторых столбцах (Critic_Score, User_Score, Rating) есть пропуски.  \n",
    "\n",
    "### 2. **Далее мы подготовили данные к исследованию**. А именно:\n",
    "+ привели названия столбцов к нижнему регистру\n",
    "+ преобразовали данные в нужные типы\n",
    "+ заменили пропуски на заглушки, т.к. это единственный вариант замены без искажения данных. Причины пропусков нам неизвестны. Единственное — можно сделать предположение, что в Японии своя система оценки игр CERO, которая отличается от ESRB. Кроме того, другая система оценки игр и в Европе (PEGI). Поэтому могут возникать пропуски.\n",
    "+ Посчитали суммарные продажи во всех регионах и записали их в отдельный столбец.  \n",
    "\n",
    "### 3. **После этого мы провели исследовательский анализ данных и узнали**:\n",
    "+ Больше всего игр выпускалось в 2009 и 2010 годах. Могу предположить, что можно отбросить данные с играми, выпущенными ранее 1995 года, т.к. именно с 1995 начался рост в гейм-индустрии. Может быть, это из-за того что вышла Windows 95 и у разработчиков стало больше возможностей. А в 2012 по 2015 был спад.\n",
    "+ В среднем игровая платформа «живет» 10 лет, пока не появятся более новые модели.\n",
    "+ В период с 2013 по 2015 росли продажи только у двух платформ: PS4 и XOne. У всех остальных платформ они падали. Мы не будем смотреть на 2016 год, т.к. данные неполные, и возможно искажение.Соответственно, самые перспективные на 2017 год платформы — это PS4 и XOne.\n",
    "+ Больше всего продаж в актуальном периоде (с 2013 по 2016) — у PS4 и PS3 (119 и 111 млн. проданных копий соответственно). На третьем месте Xbox 360 — около 88 млн. проданных копий. Меньше всего продаж — у платформы DS, около 3 млн. проданных копий.\n",
    "+ Между оценками критиков и продажами игр есть умеренная корреляция. Так что оценки критиков имеют влияние на продажи, но не сильное.\n",
    "\n",
    "### 4. Составили портрет пользователей разных регионов.\n",
    "**Портрет пользователя Северной Америки:**\n",
    "+ Самые популярные платформы — PS4,XOne,X360. Разница между ними не очень большая — 10-15 млн. проданных копий.\n",
    "+ Самые популярные жанры — Action, Shooter, Sports. Причем продажи игр в жанре «спорт» почти в два раза меньше, чем продажи игр в жанре «шутер».\n",
    "+ Рейтинг влияет на продажи игр: если у игры рейтинг М (Материалы игры не подходят для подростков младше 17 лет. Проекты с данным рейтингом могут содержать достаточно жестокое насилие, большое количество крови с расчленением, непристойные сексуальные сцены или грубую ненормативную лексику, нежелательную для младшей аудитории.), то больше вероятность, что ее купят. Почти в два раза менььше продается игр с рейтингом Е (Содержание вполне подходит для возрастной категории от 6 лет. Такие игры могут понравиться и взрослым. Игры с этим рейтингом могут содержать минимальное насилие, в основном «мультяшного» характера.) Меньше всего продается игр с рейтингом Т (Игра подходит для лиц от 13 лет. Проекты из данной категории могут содержать насилие, непристойные сцены, грубый юмор, в меру откровенное сексуальное содержимое, кровь или нечастое использование ненормативной лексики.) Могу предположить, что подростки играют либо в игры с рейтингом М, либо в игры с рейтингом Е.  \n",
    "\n",
    "**Портрет пользователя из Европы:**\n",
    "+ Самые популярные платформы — PS4 и PS3, при этом PS4 продано почти в два раза больше.\n",
    "+ Самые популярные жанры — Action, Shooter, Sports. Так же, как и в Северной Америке.\n",
    "+ Больше всего продается игр с рейтингом М. Следом за ними — игры с рейтингом Е. Игры для тинейджеров (рейтинг Т) имеют самые низкие продажи.  \n",
    "\n",
    "**Портрет пользователя из Японии:**\n",
    "+ самые популярные платформы — 3DS, PS3 и PSV. При этом у платформы 3DS почти в три раза больше продаж, чем у PS3. В Японии любят Нинтендо.\n",
    "+ самые популярные жанры Role-Playing, Action и Misc(аркады). При этом между экшеном и аркадами огромный разрыв — почти в 4,5 раза меньше продаж. Шутеры в Японии на удивление непопулярны.\n",
    "+ А вот с рейтингом сложно что-то сказать. Т.к. у 85 млн. копий игр рейтинг не определен. Это связяно с тем, что в Японии своя рейтинговая система. Далее по популярности — игры для подростков (рейтинг Т) и для всех (рейтинг Е).\n",
    "\n",
    "### 5. Составили нулевые и альтернативные гипотезы к следующим утверждениям:\n",
    "\n",
    "+ Средние пользовательские рейтинги платформ Xbox One и PC одинаковые;\n",
    "+ Средние пользовательские рейтинги жанров Action (англ. «действие», экшен-игры) и Sports (англ. «спортивные соревнования») разные.  \n",
    "\n",
    "По итогам проверки у нас не получилось отвергнуть первую нулевую гипотезу. Посколько других данных у нас нет, мы можем предположить, что первая нулевая гипотеза верна. Средние пользовательские рейтинги платформ Xbox One и PC равны.  \n",
    "\n",
    "По итогам проверки мы отвергли вторую нулевую гипотезу. А это значит, что Средние пользовательские рейтинги жанров Action (англ. «действие», экшен-игры) и Sports (англ. «спортивные соревнования») НЕ равны."
   ]
  }
 ],
 "metadata": {
  "ExecuteTimeLog": [
   {
    "duration": 52,
    "start_time": "2022-06-06T16:59:12.404Z"
   },
   {
    "duration": 54,
    "start_time": "2022-06-06T17:03:17.665Z"
   },
   {
    "duration": 92,
    "start_time": "2022-06-06T17:03:36.250Z"
   },
   {
    "duration": 48,
    "start_time": "2022-06-06T17:06:07.936Z"
   },
   {
    "duration": 31,
    "start_time": "2022-06-06T17:06:13.090Z"
   }
  ],
  "kernelspec": {
   "display_name": "Python 3 (ipykernel)",
   "language": "python",
   "name": "python3"
  },
  "language_info": {
   "codemirror_mode": {
    "name": "ipython",
    "version": 3
   },
   "file_extension": ".py",
   "mimetype": "text/x-python",
   "name": "python",
   "nbconvert_exporter": "python",
   "pygments_lexer": "ipython3",
   "version": "3.9.7"
  },
  "toc": {
   "base_numbering": 1,
   "nav_menu": {},
   "number_sections": true,
   "sideBar": true,
   "skip_h1_title": true,
   "title_cell": "Table of Contents",
   "title_sidebar": "Contents",
   "toc_cell": false,
   "toc_position": {},
   "toc_section_display": true,
   "toc_window_display": false
  }
 },
 "nbformat": 4,
 "nbformat_minor": 5
}
